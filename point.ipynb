{
 "cells": [
  {
   "attachments": {},
   "cell_type": "markdown",
   "metadata": {},
   "source": [
    "- dataset timeframe is in 2019\n",
    "- almost 2000 rows of data\n",
    "- problem : customers that opt not to purchase travel insurance\n",
    "- conversion rate is the main metrics for this dataset\n",
    "- trying to convert customers that are not using travel insurance\n",
    "- target feature `TravelInsurance` \n",
    "- goals: to predict which customers that will likely be buying insurance\n",
    "- objectives: to maximize the model of machine learning\n",
    "- datasets has no missing and duplicate values\n",
    "- EDA tells us that most of the features in this dataset are imbalanced.\n",
    "- most of the customers that buy travel insurance, work in private sector/self-employed (570)\n",
    "- most of the customers who graduated tend to buy insurance (611)\n",
    "- most of the customers are frequent flyers 79% while 21% is not\n",
    "- most of customers that have traveled abroad already know the importance of travel insurance (298)\n",
    "- many customers that do not buy travel insurance are 28 years old\n",
    "- most of the customers who buy travel insurance have annual income > ₹1,3M\n",
    "- from the correlation heatmap we learn that \n",
    "\n",
    "\n"
   ]
  }
 ],
 "metadata": {
  "kernelspec": {
   "display_name": "base",
   "language": "python",
   "name": "python3"
  },
  "language_info": {
   "name": "python",
   "version": "3.9.13"
  },
  "orig_nbformat": 4
 },
 "nbformat": 4,
 "nbformat_minor": 2
}
