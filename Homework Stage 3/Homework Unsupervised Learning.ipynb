{
 "cells": [
  {
   "cell_type": "code",
   "execution_count": 1,
   "metadata": {},
   "outputs": [],
   "source": [
    "from scipy.stats import skew\n",
    "import pandas as pd\n",
    "import numpy as np\n",
    "import matplotlib.pyplot as plt\n",
    "import seaborn as sns\n",
    "%matplotlib inline\n"
   ]
  },
  {
   "cell_type": "code",
   "execution_count": 2,
   "metadata": {},
   "outputs": [],
   "source": [
    "df = pd.read_csv('flight.csv')"
   ]
  },
  {
   "cell_type": "code",
   "execution_count": 3,
   "metadata": {},
   "outputs": [
    {
     "data": {
      "text/html": [
       "<div>\n",
       "<style scoped>\n",
       "    .dataframe tbody tr th:only-of-type {\n",
       "        vertical-align: middle;\n",
       "    }\n",
       "\n",
       "    .dataframe tbody tr th {\n",
       "        vertical-align: top;\n",
       "    }\n",
       "\n",
       "    .dataframe thead th {\n",
       "        text-align: right;\n",
       "    }\n",
       "</style>\n",
       "<table border=\"1\" class=\"dataframe\">\n",
       "  <thead>\n",
       "    <tr style=\"text-align: right;\">\n",
       "      <th></th>\n",
       "      <th>MEMBER_NO</th>\n",
       "      <th>FFP_DATE</th>\n",
       "      <th>FIRST_FLIGHT_DATE</th>\n",
       "      <th>GENDER</th>\n",
       "      <th>FFP_TIER</th>\n",
       "      <th>WORK_CITY</th>\n",
       "      <th>WORK_PROVINCE</th>\n",
       "      <th>WORK_COUNTRY</th>\n",
       "      <th>AGE</th>\n",
       "      <th>LOAD_TIME</th>\n",
       "      <th>...</th>\n",
       "      <th>SUM_YR_2</th>\n",
       "      <th>SEG_KM_SUM</th>\n",
       "      <th>LAST_FLIGHT_DATE</th>\n",
       "      <th>LAST_TO_END</th>\n",
       "      <th>AVG_INTERVAL</th>\n",
       "      <th>MAX_INTERVAL</th>\n",
       "      <th>EXCHANGE_COUNT</th>\n",
       "      <th>avg_discount</th>\n",
       "      <th>Points_Sum</th>\n",
       "      <th>Point_NotFlight</th>\n",
       "    </tr>\n",
       "  </thead>\n",
       "  <tbody>\n",
       "    <tr>\n",
       "      <th>0</th>\n",
       "      <td>54993</td>\n",
       "      <td>11/2/2006</td>\n",
       "      <td>12/24/2008</td>\n",
       "      <td>Male</td>\n",
       "      <td>6</td>\n",
       "      <td>.</td>\n",
       "      <td>beijing</td>\n",
       "      <td>CN</td>\n",
       "      <td>31.0</td>\n",
       "      <td>3/31/2014</td>\n",
       "      <td>...</td>\n",
       "      <td>234188.0</td>\n",
       "      <td>580717</td>\n",
       "      <td>3/31/2014</td>\n",
       "      <td>1</td>\n",
       "      <td>3.483254</td>\n",
       "      <td>18</td>\n",
       "      <td>34</td>\n",
       "      <td>0.961639</td>\n",
       "      <td>619760</td>\n",
       "      <td>50</td>\n",
       "    </tr>\n",
       "    <tr>\n",
       "      <th>1</th>\n",
       "      <td>28065</td>\n",
       "      <td>2/19/2007</td>\n",
       "      <td>8/3/2007</td>\n",
       "      <td>Male</td>\n",
       "      <td>6</td>\n",
       "      <td>NaN</td>\n",
       "      <td>beijing</td>\n",
       "      <td>CN</td>\n",
       "      <td>42.0</td>\n",
       "      <td>3/31/2014</td>\n",
       "      <td>...</td>\n",
       "      <td>167434.0</td>\n",
       "      <td>293678</td>\n",
       "      <td>3/25/2014</td>\n",
       "      <td>7</td>\n",
       "      <td>5.194245</td>\n",
       "      <td>17</td>\n",
       "      <td>29</td>\n",
       "      <td>1.252314</td>\n",
       "      <td>415768</td>\n",
       "      <td>33</td>\n",
       "    </tr>\n",
       "    <tr>\n",
       "      <th>2</th>\n",
       "      <td>55106</td>\n",
       "      <td>2/1/2007</td>\n",
       "      <td>8/30/2007</td>\n",
       "      <td>Male</td>\n",
       "      <td>6</td>\n",
       "      <td>.</td>\n",
       "      <td>beijing</td>\n",
       "      <td>CN</td>\n",
       "      <td>40.0</td>\n",
       "      <td>3/31/2014</td>\n",
       "      <td>...</td>\n",
       "      <td>164982.0</td>\n",
       "      <td>283712</td>\n",
       "      <td>3/21/2014</td>\n",
       "      <td>11</td>\n",
       "      <td>5.298507</td>\n",
       "      <td>18</td>\n",
       "      <td>20</td>\n",
       "      <td>1.254676</td>\n",
       "      <td>406361</td>\n",
       "      <td>26</td>\n",
       "    </tr>\n",
       "    <tr>\n",
       "      <th>3</th>\n",
       "      <td>21189</td>\n",
       "      <td>8/22/2008</td>\n",
       "      <td>8/23/2008</td>\n",
       "      <td>Male</td>\n",
       "      <td>5</td>\n",
       "      <td>Los Angeles</td>\n",
       "      <td>CA</td>\n",
       "      <td>US</td>\n",
       "      <td>64.0</td>\n",
       "      <td>3/31/2014</td>\n",
       "      <td>...</td>\n",
       "      <td>125500.0</td>\n",
       "      <td>281336</td>\n",
       "      <td>12/26/2013</td>\n",
       "      <td>97</td>\n",
       "      <td>27.863636</td>\n",
       "      <td>73</td>\n",
       "      <td>11</td>\n",
       "      <td>1.090870</td>\n",
       "      <td>372204</td>\n",
       "      <td>12</td>\n",
       "    </tr>\n",
       "    <tr>\n",
       "      <th>4</th>\n",
       "      <td>39546</td>\n",
       "      <td>4/10/2009</td>\n",
       "      <td>4/15/2009</td>\n",
       "      <td>Male</td>\n",
       "      <td>6</td>\n",
       "      <td>guiyang</td>\n",
       "      <td>guizhou</td>\n",
       "      <td>CN</td>\n",
       "      <td>48.0</td>\n",
       "      <td>3/31/2014</td>\n",
       "      <td>...</td>\n",
       "      <td>130702.0</td>\n",
       "      <td>309928</td>\n",
       "      <td>3/27/2014</td>\n",
       "      <td>5</td>\n",
       "      <td>4.788079</td>\n",
       "      <td>47</td>\n",
       "      <td>27</td>\n",
       "      <td>0.970658</td>\n",
       "      <td>338813</td>\n",
       "      <td>39</td>\n",
       "    </tr>\n",
       "  </tbody>\n",
       "</table>\n",
       "<p>5 rows × 23 columns</p>\n",
       "</div>"
      ],
      "text/plain": [
       "   MEMBER_NO   FFP_DATE FIRST_FLIGHT_DATE GENDER  FFP_TIER    WORK_CITY  \\\n",
       "0      54993  11/2/2006        12/24/2008   Male         6            .   \n",
       "1      28065  2/19/2007          8/3/2007   Male         6          NaN   \n",
       "2      55106   2/1/2007         8/30/2007   Male         6            .   \n",
       "3      21189  8/22/2008         8/23/2008   Male         5  Los Angeles   \n",
       "4      39546  4/10/2009         4/15/2009   Male         6      guiyang   \n",
       "\n",
       "  WORK_PROVINCE WORK_COUNTRY   AGE  LOAD_TIME  ...  SUM_YR_2  SEG_KM_SUM  \\\n",
       "0       beijing           CN  31.0  3/31/2014  ...  234188.0      580717   \n",
       "1       beijing           CN  42.0  3/31/2014  ...  167434.0      293678   \n",
       "2       beijing           CN  40.0  3/31/2014  ...  164982.0      283712   \n",
       "3            CA           US  64.0  3/31/2014  ...  125500.0      281336   \n",
       "4       guizhou           CN  48.0  3/31/2014  ...  130702.0      309928   \n",
       "\n",
       "   LAST_FLIGHT_DATE  LAST_TO_END  AVG_INTERVAL MAX_INTERVAL  EXCHANGE_COUNT  \\\n",
       "0         3/31/2014            1      3.483254           18              34   \n",
       "1         3/25/2014            7      5.194245           17              29   \n",
       "2         3/21/2014           11      5.298507           18              20   \n",
       "3        12/26/2013           97     27.863636           73              11   \n",
       "4         3/27/2014            5      4.788079           47              27   \n",
       "\n",
       "   avg_discount  Points_Sum  Point_NotFlight  \n",
       "0      0.961639      619760               50  \n",
       "1      1.252314      415768               33  \n",
       "2      1.254676      406361               26  \n",
       "3      1.090870      372204               12  \n",
       "4      0.970658      338813               39  \n",
       "\n",
       "[5 rows x 23 columns]"
      ]
     },
     "execution_count": 3,
     "metadata": {},
     "output_type": "execute_result"
    }
   ],
   "source": [
    "df.head(5)"
   ]
  },
  {
   "cell_type": "code",
   "execution_count": 4,
   "metadata": {},
   "outputs": [
    {
     "name": "stdout",
     "output_type": "stream",
     "text": [
      "<class 'pandas.core.frame.DataFrame'>\n",
      "RangeIndex: 62988 entries, 0 to 62987\n",
      "Data columns (total 23 columns):\n",
      " #   Column             Non-Null Count  Dtype  \n",
      "---  ------             --------------  -----  \n",
      " 0   MEMBER_NO          62988 non-null  int64  \n",
      " 1   FFP_DATE           62988 non-null  object \n",
      " 2   FIRST_FLIGHT_DATE  62988 non-null  object \n",
      " 3   GENDER             62985 non-null  object \n",
      " 4   FFP_TIER           62988 non-null  int64  \n",
      " 5   WORK_CITY          60719 non-null  object \n",
      " 6   WORK_PROVINCE      59740 non-null  object \n",
      " 7   WORK_COUNTRY       62962 non-null  object \n",
      " 8   AGE                62568 non-null  float64\n",
      " 9   LOAD_TIME          62988 non-null  object \n",
      " 10  FLIGHT_COUNT       62988 non-null  int64  \n",
      " 11  BP_SUM             62988 non-null  int64  \n",
      " 12  SUM_YR_1           62437 non-null  float64\n",
      " 13  SUM_YR_2           62850 non-null  float64\n",
      " 14  SEG_KM_SUM         62988 non-null  int64  \n",
      " 15  LAST_FLIGHT_DATE   62988 non-null  object \n",
      " 16  LAST_TO_END        62988 non-null  int64  \n",
      " 17  AVG_INTERVAL       62988 non-null  float64\n",
      " 18  MAX_INTERVAL       62988 non-null  int64  \n",
      " 19  EXCHANGE_COUNT     62988 non-null  int64  \n",
      " 20  avg_discount       62988 non-null  float64\n",
      " 21  Points_Sum         62988 non-null  int64  \n",
      " 22  Point_NotFlight    62988 non-null  int64  \n",
      "dtypes: float64(5), int64(10), object(8)\n",
      "memory usage: 11.1+ MB\n"
     ]
    }
   ],
   "source": [
    "df.info()"
   ]
  },
  {
   "cell_type": "code",
   "execution_count": 6,
   "metadata": {},
   "outputs": [
    {
     "data": {
      "text/plain": [
       "0"
      ]
     },
     "execution_count": 6,
     "metadata": {},
     "output_type": "execute_result"
    }
   ],
   "source": [
    "df.duplicated().sum()"
   ]
  },
  {
   "cell_type": "code",
   "execution_count": 11,
   "metadata": {},
   "outputs": [
    {
     "name": "stdout",
     "output_type": "stream",
     "text": [
      "Categorical Data: ['MEMBER_NO', 'FFP_DATE', 'FFP_TIER', 'FIRST_FLIGHT_DATE', 'GENDER', 'WORK_CITY', 'WORK_PROVINCE', 'WORK_COUNTRY', 'LOAD_TIME', 'LAST_FLIGHT_DATE']\n",
      "Numerical Data: ['AGE', 'FLIGHT_COUNT', 'BP_SUM', 'SUM_YR_1', 'SUM_YR_2', 'SEG_KM_SUM', 'LAST_TO_END', 'AVG_INTERVAL', 'MAX_INTERVAL', 'EXCHANGE_COUNT', 'avg_discount', 'Points_Sum', 'Point_NotFlight']\n"
     ]
    }
   ],
   "source": [
    "categorical = ['MEMBER_NO', 'FFP_DATE', 'FFP_TIER','FIRST_FLIGHT_DATE', 'GENDER', 'WORK_CITY', 'WORK_PROVINCE', 'WORK_COUNTRY', 'LOAD_TIME', 'LAST_FLIGHT_DATE']\n",
    "numerical = ['AGE', 'FLIGHT_COUNT', 'BP_SUM', 'SUM_YR_1', 'SUM_YR_2', 'SEG_KM_SUM', 'LAST_TO_END', 'AVG_INTERVAL', 'MAX_INTERVAL', 'EXCHANGE_COUNT', 'avg_discount', 'Points_Sum', 'Point_NotFlight']\n",
    "print(f'Categorical Data: {categorical}')\n",
    "print(f'Numerical Data: {numerical}')"
   ]
  },
  {
   "cell_type": "code",
   "execution_count": 9,
   "metadata": {},
   "outputs": [
    {
     "name": "stdout",
     "output_type": "stream",
     "text": [
      "<class 'pandas.core.frame.DataFrame'>\n",
      "RangeIndex: 62988 entries, 0 to 62987\n",
      "Data columns (total 10 columns):\n",
      " #   Column             Non-Null Count  Dtype \n",
      "---  ------             --------------  ----- \n",
      " 0   MEMBER_NO          62988 non-null  int64 \n",
      " 1   FFP_DATE           62988 non-null  object\n",
      " 2   FFP_TIER           62988 non-null  int64 \n",
      " 3   FIRST_FLIGHT_DATE  62988 non-null  object\n",
      " 4   GENDER             62985 non-null  object\n",
      " 5   WORK_CITY          60719 non-null  object\n",
      " 6   WORK_PROVINCE      59740 non-null  object\n",
      " 7   WORK_COUNTRY       62962 non-null  object\n",
      " 8   LOAD_TIME          62988 non-null  object\n",
      " 9   LAST_FLIGHT_DATE   62988 non-null  object\n",
      "dtypes: int64(2), object(8)\n",
      "memory usage: 4.8+ MB\n"
     ]
    }
   ],
   "source": [
    "df[categorical].info()"
   ]
  },
  {
   "cell_type": "code",
   "execution_count": 12,
   "metadata": {},
   "outputs": [
    {
     "name": "stdout",
     "output_type": "stream",
     "text": [
      "<class 'pandas.core.frame.DataFrame'>\n",
      "RangeIndex: 62988 entries, 0 to 62987\n",
      "Data columns (total 13 columns):\n",
      " #   Column           Non-Null Count  Dtype  \n",
      "---  ------           --------------  -----  \n",
      " 0   AGE              62568 non-null  float64\n",
      " 1   FLIGHT_COUNT     62988 non-null  int64  \n",
      " 2   BP_SUM           62988 non-null  int64  \n",
      " 3   SUM_YR_1         62437 non-null  float64\n",
      " 4   SUM_YR_2         62850 non-null  float64\n",
      " 5   SEG_KM_SUM       62988 non-null  int64  \n",
      " 6   LAST_TO_END      62988 non-null  int64  \n",
      " 7   AVG_INTERVAL     62988 non-null  float64\n",
      " 8   MAX_INTERVAL     62988 non-null  int64  \n",
      " 9   EXCHANGE_COUNT   62988 non-null  int64  \n",
      " 10  avg_discount     62988 non-null  float64\n",
      " 11  Points_Sum       62988 non-null  int64  \n",
      " 12  Point_NotFlight  62988 non-null  int64  \n",
      "dtypes: float64(5), int64(8)\n",
      "memory usage: 6.2 MB\n"
     ]
    }
   ],
   "source": [
    "df[numerical].info()"
   ]
  },
  {
   "cell_type": "code",
   "execution_count": 18,
   "metadata": {},
   "outputs": [
    {
     "data": {
      "text/plain": [
       "<Figure size 1500x350 with 0 Axes>"
      ]
     },
     "execution_count": 18,
     "metadata": {},
     "output_type": "execute_result"
    },
    {
     "data": {
      "text/plain": [
       "<Figure size 1500x350 with 0 Axes>"
      ]
     },
     "metadata": {},
     "output_type": "display_data"
    }
   ],
   "source": [
    "\n"
   ]
  },
  {
   "cell_type": "code",
   "execution_count": null,
   "metadata": {},
   "outputs": [],
   "source": []
  }
 ],
 "metadata": {
  "kernelspec": {
   "display_name": "base",
   "language": "python",
   "name": "python3"
  },
  "language_info": {
   "codemirror_mode": {
    "name": "ipython",
    "version": 3
   },
   "file_extension": ".py",
   "mimetype": "text/x-python",
   "name": "python",
   "nbconvert_exporter": "python",
   "pygments_lexer": "ipython3",
   "version": "3.9.13"
  },
  "orig_nbformat": 4
 },
 "nbformat": 4,
 "nbformat_minor": 2
}
