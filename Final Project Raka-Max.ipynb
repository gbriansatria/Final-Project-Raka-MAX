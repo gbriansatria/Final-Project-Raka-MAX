{
  "cells": [
    {
      "cell_type": "markdown",
      "metadata": {
        "id": "MNv-MOsGy17_"
      },
      "source": [
        "#**Travel Insurance Prediction**\n",
        "*Predict Whether A Customer Will Be Interested In Buying Travel Insurance*<br>\n",
        "sorce: https://www.kaggle.com/datasets/tejashvi14/travel-insurance-prediction-data\n",
        "\n"
      ]
    },
    {
      "cell_type": "code",
      "execution_count": 110,
      "metadata": {
        "id": "iEXX9CqkymTP"
      },
      "outputs": [],
      "source": [
        "# Import Libraries\n",
        "\n",
        "from scipy.stats import skew\n",
        "import pandas as pd\n",
        "import numpy as np\n",
        "import matplotlib.pyplot as plt\n",
        "import seaborn as sns\n",
        "%matplotlib inline\n"
      ]
    },
    {
      "cell_type": "code",
      "execution_count": 111,
      "metadata": {
        "id": "ayeuHCVs1RIA"
      },
      "outputs": [],
      "source": [
        "import warnings\n",
        "warnings.filterwarnings('ignore')\n"
      ]
    },
    {
      "cell_type": "markdown",
      "metadata": {
        "id": "UJ4vNXgQ2QIt"
      },
      "source": [
        "#Understanding Business Problem\n",
        "**Problem** : The Company Requires To Know The Which Customers Would Be Interested To Buy Travel Insurance Package.<br>\n",
        "**Objective** : Customers Prediction.<br>\n",
        "**Success Metric** : Customers Prediction Accuration > 80%.<br>\n",
        "**User** : Marketing Team.<br>"
      ]
    },
    {
      "attachments": {},
      "cell_type": "markdown",
      "metadata": {
        "id": "b7W-dYVyzNI1"
      },
      "source": [
        "### 1. Data Exploration"
      ]
    },
    {
      "cell_type": "code",
      "execution_count": 112,
      "metadata": {
        "colab": {
          "base_uri": "https://localhost:8080/",
          "height": 206
        },
        "id": "t-0NEPA_yuRk",
        "outputId": "0da9eb63-b507-448c-833a-7c83dc878e66"
      },
      "outputs": [
        {
          "data": {
            "text/html": [
              "<div>\n",
              "<style scoped>\n",
              "    .dataframe tbody tr th:only-of-type {\n",
              "        vertical-align: middle;\n",
              "    }\n",
              "\n",
              "    .dataframe tbody tr th {\n",
              "        vertical-align: top;\n",
              "    }\n",
              "\n",
              "    .dataframe thead th {\n",
              "        text-align: right;\n",
              "    }\n",
              "</style>\n",
              "<table border=\"1\" class=\"dataframe\">\n",
              "  <thead>\n",
              "    <tr style=\"text-align: right;\">\n",
              "      <th></th>\n",
              "      <th>Unnamed: 0</th>\n",
              "      <th>Age</th>\n",
              "      <th>Employment Type</th>\n",
              "      <th>GraduateOrNot</th>\n",
              "      <th>AnnualIncome</th>\n",
              "      <th>FamilyMembers</th>\n",
              "      <th>ChronicDiseases</th>\n",
              "      <th>FrequentFlyer</th>\n",
              "      <th>EverTravelledAbroad</th>\n",
              "      <th>TravelInsurance</th>\n",
              "    </tr>\n",
              "  </thead>\n",
              "  <tbody>\n",
              "    <tr>\n",
              "      <th>0</th>\n",
              "      <td>0</td>\n",
              "      <td>31</td>\n",
              "      <td>Government Sector</td>\n",
              "      <td>Yes</td>\n",
              "      <td>400000</td>\n",
              "      <td>6</td>\n",
              "      <td>1</td>\n",
              "      <td>No</td>\n",
              "      <td>No</td>\n",
              "      <td>0</td>\n",
              "    </tr>\n",
              "    <tr>\n",
              "      <th>1</th>\n",
              "      <td>1</td>\n",
              "      <td>31</td>\n",
              "      <td>Private Sector/Self Employed</td>\n",
              "      <td>Yes</td>\n",
              "      <td>1250000</td>\n",
              "      <td>7</td>\n",
              "      <td>0</td>\n",
              "      <td>No</td>\n",
              "      <td>No</td>\n",
              "      <td>0</td>\n",
              "    </tr>\n",
              "    <tr>\n",
              "      <th>2</th>\n",
              "      <td>2</td>\n",
              "      <td>34</td>\n",
              "      <td>Private Sector/Self Employed</td>\n",
              "      <td>Yes</td>\n",
              "      <td>500000</td>\n",
              "      <td>4</td>\n",
              "      <td>1</td>\n",
              "      <td>No</td>\n",
              "      <td>No</td>\n",
              "      <td>1</td>\n",
              "    </tr>\n",
              "    <tr>\n",
              "      <th>3</th>\n",
              "      <td>3</td>\n",
              "      <td>28</td>\n",
              "      <td>Private Sector/Self Employed</td>\n",
              "      <td>Yes</td>\n",
              "      <td>700000</td>\n",
              "      <td>3</td>\n",
              "      <td>1</td>\n",
              "      <td>No</td>\n",
              "      <td>No</td>\n",
              "      <td>0</td>\n",
              "    </tr>\n",
              "    <tr>\n",
              "      <th>4</th>\n",
              "      <td>4</td>\n",
              "      <td>28</td>\n",
              "      <td>Private Sector/Self Employed</td>\n",
              "      <td>Yes</td>\n",
              "      <td>700000</td>\n",
              "      <td>8</td>\n",
              "      <td>1</td>\n",
              "      <td>Yes</td>\n",
              "      <td>No</td>\n",
              "      <td>0</td>\n",
              "    </tr>\n",
              "  </tbody>\n",
              "</table>\n",
              "</div>"
            ],
            "text/plain": [
              "   Unnamed: 0  Age               Employment Type GraduateOrNot  AnnualIncome  \\\n",
              "0           0   31             Government Sector           Yes        400000   \n",
              "1           1   31  Private Sector/Self Employed           Yes       1250000   \n",
              "2           2   34  Private Sector/Self Employed           Yes        500000   \n",
              "3           3   28  Private Sector/Self Employed           Yes        700000   \n",
              "4           4   28  Private Sector/Self Employed           Yes        700000   \n",
              "\n",
              "   FamilyMembers  ChronicDiseases FrequentFlyer EverTravelledAbroad  \\\n",
              "0              6                1            No                  No   \n",
              "1              7                0            No                  No   \n",
              "2              4                1            No                  No   \n",
              "3              3                1            No                  No   \n",
              "4              8                1           Yes                  No   \n",
              "\n",
              "   TravelInsurance  \n",
              "0                0  \n",
              "1                0  \n",
              "2                1  \n",
              "3                0  \n",
              "4                0  "
            ]
          },
          "execution_count": 112,
          "metadata": {},
          "output_type": "execute_result"
        }
      ],
      "source": [
        "# Data Extraction\n",
        "\n",
        "df = pd.read_csv('TravelInsurancePrediction.csv')\n",
        "df.head()\n"
      ]
    },
    {
      "attachments": {},
      "cell_type": "markdown",
      "metadata": {
        "id": "NPmrlO93BWLe"
      },
      "source": [
        "### 2. EDA"
      ]
    },
    {
      "cell_type": "code",
      "execution_count": 113,
      "metadata": {
        "colab": {
          "base_uri": "https://localhost:8080/"
        },
        "id": "fDYRFY7i94kO",
        "outputId": "0693e21a-12b0-405b-a197-a40dc45fa05a"
      },
      "outputs": [
        {
          "name": "stdout",
          "output_type": "stream",
          "text": [
            "<class 'pandas.core.frame.DataFrame'>\n",
            "RangeIndex: 1987 entries, 0 to 1986\n",
            "Data columns (total 10 columns):\n",
            " #   Column               Non-Null Count  Dtype \n",
            "---  ------               --------------  ----- \n",
            " 0   Unnamed: 0           1987 non-null   int64 \n",
            " 1   Age                  1987 non-null   int64 \n",
            " 2   Employment Type      1987 non-null   object\n",
            " 3   GraduateOrNot        1987 non-null   object\n",
            " 4   AnnualIncome         1987 non-null   int64 \n",
            " 5   FamilyMembers        1987 non-null   int64 \n",
            " 6   ChronicDiseases      1987 non-null   int64 \n",
            " 7   FrequentFlyer        1987 non-null   object\n",
            " 8   EverTravelledAbroad  1987 non-null   object\n",
            " 9   TravelInsurance      1987 non-null   int64 \n",
            "dtypes: int64(6), object(4)\n",
            "memory usage: 155.4+ KB\n"
          ]
        }
      ],
      "source": [
        "df.info()\n"
      ]
    },
    {
      "cell_type": "markdown",
      "metadata": {
        "id": "Ebx3L1l6-VcV"
      },
      "source": [
        "The data consist of 1987 rows and 9 columns.<br>\n",
        "there is no missing values.<br> \n",
        "\n",
        "Looking from data types, it seems the data has no anomaly values."
      ]
    },
    {
      "cell_type": "code",
      "execution_count": 114,
      "metadata": {
        "colab": {
          "base_uri": "https://localhost:8080/"
        },
        "id": "3ZUhdfTYAYNm",
        "outputId": "20f73299-7eee-4662-a49e-f84a471b87f7"
      },
      "outputs": [
        {
          "data": {
            "text/plain": [
              "0"
            ]
          },
          "execution_count": 114,
          "metadata": {},
          "output_type": "execute_result"
        }
      ],
      "source": [
        "df.duplicated().sum()"
      ]
    },
    {
      "cell_type": "code",
      "execution_count": 115,
      "metadata": {},
      "outputs": [],
      "source": [
        "#df[\"TravelInsurance\"] = df[\"TravelInsurance\"].map({0: \"not purchased\", 1: \"purchased\"})\n",
        "#df[\"ChronicDiseases\"] = df[\"Ch ronicDiseases\"].map({0: \"No\", 1: \"Yes\"})\n",
        "#df.drop(columns=('Unnamed: 0'),inplace=True)"
      ]
    },
    {
      "cell_type": "markdown",
      "metadata": {
        "id": "AL1129llFsnh"
      },
      "source": [
        "##Univariate Analysis"
      ]
    },
    {
      "cell_type": "code",
      "execution_count": 116,
      "metadata": {
        "colab": {
          "base_uri": "https://localhost:8080/"
        },
        "id": "7Hf2Mdmh_eFh",
        "outputId": "4de2d518-9d37-46c3-eec1-56c544b4d2b5"
      },
      "outputs": [
        {
          "name": "stdout",
          "output_type": "stream",
          "text": [
            "cat =  ['Employment Type', 'GraduateOrNot', 'ChronicDiseases', 'FrequentFlyer', 'EverTravelledAbroad', 'TravelInsurance']\n",
            "num =  ['Age', 'AnnualIncome', 'FamilyMembers']\n"
          ]
        }
      ],
      "source": [
        "# Split data types\n",
        "\n",
        "cat = ['Employment Type', 'GraduateOrNot', 'ChronicDiseases', 'FrequentFlyer', 'EverTravelledAbroad', 'TravelInsurance']\n",
        "num = ['Age', 'AnnualIncome', 'FamilyMembers']\n",
        "\n",
        "print('cat = ', cat)\n",
        "print('num = ', num)\n"
      ]
    },
    {
      "cell_type": "code",
      "execution_count": 117,
      "metadata": {
        "colab": {
          "base_uri": "https://localhost:8080/"
        },
        "id": "PGw72KVFJEMl",
        "outputId": "d7174f1d-f07c-4a0b-8466-d499584a52c6"
      },
      "outputs": [
        {
          "name": "stdout",
          "output_type": "stream",
          "text": [
            "<class 'pandas.core.frame.DataFrame'>\n",
            "RangeIndex: 1987 entries, 0 to 1986\n",
            "Data columns (total 6 columns):\n",
            " #   Column               Non-Null Count  Dtype \n",
            "---  ------               --------------  ----- \n",
            " 0   Employment Type      1987 non-null   object\n",
            " 1   GraduateOrNot        1987 non-null   object\n",
            " 2   ChronicDiseases      1987 non-null   int64 \n",
            " 3   FrequentFlyer        1987 non-null   object\n",
            " 4   EverTravelledAbroad  1987 non-null   object\n",
            " 5   TravelInsurance      1987 non-null   int64 \n",
            "dtypes: int64(2), object(4)\n",
            "memory usage: 93.3+ KB\n"
          ]
        }
      ],
      "source": [
        "df[cat].info()\n"
      ]
    },
    {
      "cell_type": "code",
      "execution_count": 118,
      "metadata": {
        "colab": {
          "base_uri": "https://localhost:8080/",
          "height": 667
        },
        "id": "a17yYsUPk6cV",
        "outputId": "04ba28e8-19be-4117-c5e6-dd644bf641b1"
      },
      "outputs": [
        {
          "data": {
            "image/png": "[encoded data removed]",
            "text/plain": [
              "<Figure size 1440x792 with 6 Axes>"
            ]
          },
          "metadata": {
            "needs_background": "light"
          },
          "output_type": "display_data"
        }
      ],
      "source": [
        "# Categorical-Univariate Analysis\n",
        "\n",
        "plt.figure(figsize=(20, 11))\n",
        "for x in range(0, len(cat)):\n",
        "\n",
        "    dfg = df.groupby([cat[x]])['Age'].count().reset_index(name='User')\n",
        "    dfg['ratio'] = dfg['User'] / df['Age'].count()\n",
        "    dfg\n",
        "\n",
        "    plt.subplot(2, 3, x+1)\n",
        "    for i, bar in enumerate(sns.barplot(x=cat[x], y='User', palette='viridis', data=dfg).containers):\n",
        "        for j, value in enumerate(bar):\n",
        "            number = value.get_height()\n",
        "            percent = (dfg['ratio'].where(\n",
        "                dfg['User'] == value.get_height()).sum())*100\n",
        "            plt.text(value.get_x() + value.get_width() / 2, value.get_height(),\n",
        "                     round(number), ha='center', va='bottom', fontsize=10)\n",
        "            plt.text(value.get_x() + value.get_width() / 2, value.get_height()/2,\n",
        "                     f\"{percent:.1f}%\", ha='center', va='top', fontsize=13, color='white')\n",
        "            plt.xlabel('')\n",
        "            plt.title(cat[x], fontsize=20)\n",
        "plt.show()\n"
      ]
    },
    {
      "cell_type": "code",
      "execution_count": 119,
      "metadata": {
        "colab": {
          "base_uri": "https://localhost:8080/",
          "height": 238
        },
        "id": "Prets7KJa-Cn",
        "outputId": "9856966b-f71a-427c-af4e-3dfec48244da"
      },
      "outputs": [
        {
          "data": {
            "text/html": [
              "<div>\n",
              "<style scoped>\n",
              "    .dataframe tbody tr th:only-of-type {\n",
              "        vertical-align: middle;\n",
              "    }\n",
              "\n",
              "    .dataframe tbody tr th {\n",
              "        vertical-align: top;\n",
              "    }\n",
              "\n",
              "    .dataframe thead th {\n",
              "        text-align: right;\n",
              "    }\n",
              "</style>\n",
              "<table border=\"1\" class=\"dataframe\">\n",
              "  <thead>\n",
              "    <tr style=\"text-align: right;\">\n",
              "      <th></th>\n",
              "      <th>count</th>\n",
              "      <th>mean</th>\n",
              "      <th>std</th>\n",
              "      <th>min</th>\n",
              "      <th>25%</th>\n",
              "      <th>50%</th>\n",
              "      <th>75%</th>\n",
              "      <th>max</th>\n",
              "    </tr>\n",
              "  </thead>\n",
              "  <tbody>\n",
              "    <tr>\n",
              "      <th>ChronicDiseases</th>\n",
              "      <td>1987.0</td>\n",
              "      <td>0.277806</td>\n",
              "      <td>0.448030</td>\n",
              "      <td>0.0</td>\n",
              "      <td>0.0</td>\n",
              "      <td>0.0</td>\n",
              "      <td>1.0</td>\n",
              "      <td>1.0</td>\n",
              "    </tr>\n",
              "    <tr>\n",
              "      <th>TravelInsurance</th>\n",
              "      <td>1987.0</td>\n",
              "      <td>0.357323</td>\n",
              "      <td>0.479332</td>\n",
              "      <td>0.0</td>\n",
              "      <td>0.0</td>\n",
              "      <td>0.0</td>\n",
              "      <td>1.0</td>\n",
              "      <td>1.0</td>\n",
              "    </tr>\n",
              "  </tbody>\n",
              "</table>\n",
              "</div>"
            ],
            "text/plain": [
              "                  count      mean       std  min  25%  50%  75%  max\n",
              "ChronicDiseases  1987.0  0.277806  0.448030  0.0  0.0  0.0  1.0  1.0\n",
              "TravelInsurance  1987.0  0.357323  0.479332  0.0  0.0  0.0  1.0  1.0"
            ]
          },
          "execution_count": 119,
          "metadata": {},
          "output_type": "execute_result"
        }
      ],
      "source": [
        "df[cat].describe().T\n"
      ]
    },
    {
      "cell_type": "code",
      "execution_count": 120,
      "metadata": {
        "colab": {
          "base_uri": "https://localhost:8080/",
          "height": 261
        },
        "id": "jgujs9_XKjWd",
        "outputId": "24efe7bb-69ff-4b16-e74a-4cf56f4fae31"
      },
      "outputs": [
        {
          "data": {
            "image/png": "[encoded data removed]",
            "text/plain": [
              "<Figure size 1080x252 with 3 Axes>"
            ]
          },
          "metadata": {
            "needs_background": "light"
          },
          "output_type": "display_data"
        }
      ],
      "source": [
        "# Numerical-Univariate Analysis\n",
        "\n",
        "plt.figure(figsize=(15, 3.5))\n",
        "for x in range(0, len(num)):\n",
        "    plt.subplot(1, 3, x+1)\n",
        "    sns.distplot(df[num[x]], color='b')\n",
        "    plt.title(num[x], fontsize=12)\n",
        "    plt.xlabel('')\n",
        "    plt.tight_layout()\n"
      ]
    },
    {
      "cell_type": "code",
      "execution_count": 121,
      "metadata": {
        "colab": {
          "base_uri": "https://localhost:8080/",
          "height": 297
        },
        "id": "--OOP3GnNEdM",
        "outputId": "cdb0c347-cb90-4208-fa1b-41b07f4a40ab"
      },
      "outputs": [
        {
          "data": {
            "image/png": "[encoded data removed]",
            "text/plain": [
              "<Figure size 432x288 with 3 Axes>"
            ]
          },
          "metadata": {
            "needs_background": "light"
          },
          "output_type": "display_data"
        }
      ],
      "source": [
        "# Outlier Check\n",
        "\n",
        "plt.figure(figsize=(6, 4))\n",
        "for x in range(0, len(num)):\n",
        "    plt.subplot(1, 3, x+1)\n",
        "    sns.boxplot(df[num[x]], color='violet')\n",
        "    plt.title(num[x], fontsize=10)\n",
        "    plt.tight_layout()\n"
      ]
    },
    {
      "cell_type": "code",
      "execution_count": 122,
      "metadata": {
        "colab": {
          "base_uri": "https://localhost:8080/",
          "height": 143
        },
        "id": "buFbc0eGMznG",
        "outputId": "39bd91e3-6673-4805-e2e0-7d63c51e9346"
      },
      "outputs": [
        {
          "data": {
            "text/html": [
              "<div>\n",
              "<style scoped>\n",
              "    .dataframe tbody tr th:only-of-type {\n",
              "        vertical-align: middle;\n",
              "    }\n",
              "\n",
              "    .dataframe tbody tr th {\n",
              "        vertical-align: top;\n",
              "    }\n",
              "\n",
              "    .dataframe thead th {\n",
              "        text-align: right;\n",
              "    }\n",
              "</style>\n",
              "<table border=\"1\" class=\"dataframe\">\n",
              "  <thead>\n",
              "    <tr style=\"text-align: right;\">\n",
              "      <th></th>\n",
              "      <th>count</th>\n",
              "      <th>mean</th>\n",
              "      <th>std</th>\n",
              "      <th>min</th>\n",
              "      <th>25%</th>\n",
              "      <th>50%</th>\n",
              "      <th>75%</th>\n",
              "      <th>max</th>\n",
              "    </tr>\n",
              "  </thead>\n",
              "  <tbody>\n",
              "    <tr>\n",
              "      <th>Age</th>\n",
              "      <td>1987.0</td>\n",
              "      <td>29.650226</td>\n",
              "      <td>2.913308</td>\n",
              "      <td>25.0</td>\n",
              "      <td>28.0</td>\n",
              "      <td>29.0</td>\n",
              "      <td>32.0</td>\n",
              "      <td>35.0</td>\n",
              "    </tr>\n",
              "    <tr>\n",
              "      <th>AnnualIncome</th>\n",
              "      <td>1987.0</td>\n",
              "      <td>932762.959235</td>\n",
              "      <td>376855.684748</td>\n",
              "      <td>300000.0</td>\n",
              "      <td>600000.0</td>\n",
              "      <td>900000.0</td>\n",
              "      <td>1250000.0</td>\n",
              "      <td>1800000.0</td>\n",
              "    </tr>\n",
              "    <tr>\n",
              "      <th>FamilyMembers</th>\n",
              "      <td>1987.0</td>\n",
              "      <td>4.752894</td>\n",
              "      <td>1.609650</td>\n",
              "      <td>2.0</td>\n",
              "      <td>4.0</td>\n",
              "      <td>5.0</td>\n",
              "      <td>6.0</td>\n",
              "      <td>9.0</td>\n",
              "    </tr>\n",
              "  </tbody>\n",
              "</table>\n",
              "</div>"
            ],
            "text/plain": [
              "                count           mean            std       min       25%  \\\n",
              "Age            1987.0      29.650226       2.913308      25.0      28.0   \n",
              "AnnualIncome   1987.0  932762.959235  376855.684748  300000.0  600000.0   \n",
              "FamilyMembers  1987.0       4.752894       1.609650       2.0       4.0   \n",
              "\n",
              "                    50%        75%        max  \n",
              "Age                29.0       32.0       35.0  \n",
              "AnnualIncome   900000.0  1250000.0  1800000.0  \n",
              "FamilyMembers       5.0        6.0        9.0  "
            ]
          },
          "execution_count": 122,
          "metadata": {},
          "output_type": "execute_result"
        }
      ],
      "source": [
        "df[num].describe().T\n"
      ]
    },
    {
      "cell_type": "markdown",
      "metadata": {
        "id": "hQF-YSIgNpws"
      },
      "source": [
        "##Bivariate Analysis"
      ]
    },
    {
      "cell_type": "code",
      "execution_count": 123,
      "metadata": {
        "colab": {
          "base_uri": "https://localhost:8080/",
          "height": 776
        },
        "id": "1zHeWceSi74n",
        "outputId": "36535573-7d16-4e2a-8510-43316567fb1c"
      },
      "outputs": [
        {
          "data": {
            "image/png": "[encoded data removed]",
            "text/plain": [
              "<Figure size 1800x936 with 5 Axes>"
            ]
          },
          "metadata": {
            "needs_background": "light"
          },
          "output_type": "display_data"
        }
      ],
      "source": [
        "# Categorical-Bivariate Analysis\n",
        "\n",
        "plt.figure(figsize=(25, 13))\n",
        "for x in range(0, len(cat)):\n",
        "    if cat[x] != 'TravelInsurance':\n",
        "        dfg = df.groupby([cat[x], 'TravelInsurance'])[\n",
        "            'Age'].count().reset_index(name='User')\n",
        "        dfg_tot = df.groupby([cat[x]])['Age'].count().reset_index(name='Total')\n",
        "        dfg = dfg.merge(dfg_tot, how='inner', on=cat[x])\n",
        "        dfg['ratio'] = dfg['User'] / dfg['Total']\n",
        "        dfg\n",
        "\n",
        "        plt.subplot(2, 3, x+1)\n",
        "        for i, bar in enumerate(sns.barplot(x=cat[x], y='User', hue='TravelInsurance', palette='viridis', data=dfg).containers):\n",
        "            for j, value in enumerate(bar):\n",
        "                number = value.get_height()\n",
        "                percent = (dfg['ratio'].where(\n",
        "                    dfg['User'] == value.get_height()).sum())*100\n",
        "                plt.text(value.get_x() + value.get_width() / 2, value.get_height(),\n",
        "                         round(number), ha='center', va='bottom', fontsize=10)\n",
        "                plt.text(value.get_x() + value.get_width() / 2, value.get_height()/2,\n",
        "                         f\"{percent:.1f}%\", ha='center', va='top', fontsize=13, color='white')\n",
        "                plt.xlabel('')\n",
        "                plt.title(cat[x], fontsize=20)\n",
        "plt.show()\n"
      ]
    },
    {
      "cell_type": "code",
      "execution_count": 124,
      "metadata": {
        "colab": {
          "base_uri": "https://localhost:8080/",
          "height": 297
        },
        "id": "KkQQ1_ihIbiq",
        "outputId": "6328b7b9-6a92-43b3-bc73-652f745456eb"
      },
      "outputs": [
        {
          "data": {
            "image/png": "[encoded data removed]",
            "text/plain": [
              "<Figure size 1440x288 with 3 Axes>"
            ]
          },
          "metadata": {
            "needs_background": "light"
          },
          "output_type": "display_data"
        }
      ],
      "source": [
        "# Numerical-Bivariate Analysis\n",
        "\n",
        "plt.figure(figsize=(20, 4))\n",
        "for x in range(0, len(num)):\n",
        "    plt.subplot(1, 3, x+1)\n",
        "    ax = sns.kdeplot(df[num[x]][(df[\"TravelInsurance\"] == 0)],\n",
        "                     color=\"violet\", shade=True)\n",
        "    ax = sns.kdeplot(df[num[x]][(df[\"TravelInsurance\"] == 1)],\n",
        "                     ax=ax, color=\"lightblue\", shade=True)\n",
        "    ax.legend([\"not purchased\", \"purchased\"], loc='upper right')\n",
        "    plt.title(f'{num[x]} to TravelInsurance', fontsize=15)\n",
        "    plt.tight_layout()\n"
      ]
    },
    {
      "cell_type": "markdown",
      "metadata": {
        "id": "sj9wTCMWUeuD"
      },
      "source": [
        "##Multivariate"
      ]
    },
    {
      "cell_type": "code",
      "execution_count": 125,
      "metadata": {},
      "outputs": [
        {
          "data": {
            "text/plain": [
              "<AxesSubplot:>"
            ]
          },
          "execution_count": 125,
          "metadata": {},
          "output_type": "execute_result"
        },
        {
          "data": {
            "image/png": "[encoded data removed]",
            "text/plain": [
              "<Figure size 864x576 with 2 Axes>"
            ]
          },
          "metadata": {
            "needs_background": "light"
          },
          "output_type": "display_data"
        }
      ],
      "source": [
        "#Heatmap correlation\n",
        "df_corr = df.copy()\n",
        "df_corr['Employment Type'] = df_corr['Employment Type'].map({'Private Sector/Self Employed': 1, 'Government Sector': 0})\n",
        "df_corr['GraduateOrNot'] = df_corr['GraduateOrNot'].map({'Yes': 1, 'No': 0})\n",
        "df_corr['FrequentFlyer'] = df_corr['FrequentFlyer'].map({'No': 0, 'Yes': 1})\n",
        "df_corr['EverTravelledAbroad'] = df_corr['EverTravelledAbroad'].map({'No': 0, 'Yes': 1})\n",
        "\n",
        "plt.figure(figsize=(12,8))\n",
        "sns.heatmap(df_corr.corr(),annot=True, cmap='BuPu')"
      ]
    },
    {
      "cell_type": "code",
      "execution_count": 126,
      "metadata": {
        "id": "BG3G6b6NyOLE"
      },
      "outputs": [],
      "source": [
        "from scipy.stats import chi2_contingency\n",
        "\n",
        "def cramers_v(x, y):\n",
        "    confusion_matrix = pd.crosstab(x, y)\n",
        "    chi2 = chi2_contingency(confusion_matrix)[0]\n",
        "    n = confusion_matrix.sum().sum()\n",
        "    phi2 = chi2/n\n",
        "    r, k = confusion_matrix.shape\n",
        "    phi2corr = max(0, phi2 - ((k-1)*(r-1))/(n-1))\n",
        "    rcorr = r - ((r-1)**2)/(n-1)\n",
        "    kcorr = k - ((k-1)**2)/(n-1)\n",
        "    return np.sqrt(phi2corr / min((kcorr-1), (rcorr-1)))\n"
      ]
    },
    {
      "cell_type": "code",
      "execution_count": 127,
      "metadata": {
        "colab": {
          "base_uri": "https://localhost:8080/",
          "height": 504
        },
        "id": "igJ6MXsF1RgE",
        "outputId": "a39b33cc-520c-4d29-f4d3-50a74924e612"
      },
      "outputs": [
        {
          "data": {
            "image/png": "[encoded data removed]",
            "text/plain": [
              "<Figure size 1080x720 with 12 Axes>"
            ]
          },
          "metadata": {
            "needs_background": "light"
          },
          "output_type": "display_data"
        }
      ],
      "source": [
        "plt.figure(figsize=(15, 10))\n",
        "for x in range(0, len(cat)):\n",
        "    plt.subplot(3, 3, x+1)\n",
        "    corr = cramers_v(df[cat[x]], df[\"TravelInsurance\"])\n",
        "    sns.heatmap([[1, corr], [corr, 1]], annot=True)\n",
        "    plt.title(cat[x], fontsize=10)\n",
        "    plt.tight_layout()\n"
      ]
    },
    {
      "attachments": {},
      "cell_type": "markdown",
      "metadata": {},
      "source": [
        "### 3. Data Pre-Processing"
      ]
    },
    {
      "attachments": {},
      "cell_type": "markdown",
      "metadata": {},
      "source": [
        "#### Data Cleansing"
      ]
    },
    {
      "attachments": {},
      "cell_type": "markdown",
      "metadata": {},
      "source": [
        "##### Missing, Duplicated and Outliers "
      ]
    },
    {
      "cell_type": "code",
      "execution_count": 128,
      "metadata": {},
      "outputs": [
        {
          "name": "stdout",
          "output_type": "stream",
          "text": [
            "<class 'pandas.core.frame.DataFrame'>\n",
            "RangeIndex: 1987 entries, 0 to 1986\n",
            "Data columns (total 10 columns):\n",
            " #   Column               Non-Null Count  Dtype \n",
            "---  ------               --------------  ----- \n",
            " 0   Unnamed: 0           1987 non-null   int64 \n",
            " 1   Age                  1987 non-null   int64 \n",
            " 2   Employment Type      1987 non-null   object\n",
            " 3   GraduateOrNot        1987 non-null   object\n",
            " 4   AnnualIncome         1987 non-null   int64 \n",
            " 5   FamilyMembers        1987 non-null   int64 \n",
            " 6   ChronicDiseases      1987 non-null   int64 \n",
            " 7   FrequentFlyer        1987 non-null   object\n",
            " 8   EverTravelledAbroad  1987 non-null   object\n",
            " 9   TravelInsurance      1987 non-null   int64 \n",
            "dtypes: int64(6), object(4)\n",
            "memory usage: 155.4+ KB\n"
          ]
        }
      ],
      "source": [
        "df.info()\n"
      ]
    },
    {
      "cell_type": "code",
      "execution_count": 129,
      "metadata": {},
      "outputs": [
        {
          "data": {
            "text/plain": [
              "0"
            ]
          },
          "execution_count": 129,
          "metadata": {},
          "output_type": "execute_result"
        }
      ],
      "source": [
        "df.duplicated().sum()\n"
      ]
    },
    {
      "attachments": {},
      "cell_type": "markdown",
      "metadata": {},
      "source": [
        "##### Feature Transformation and Encoding"
      ]
    },
    {
      "cell_type": "code",
      "execution_count": 130,
      "metadata": {},
      "outputs": [
        {
          "data": {
            "text/html": [
              "<div>\n",
              "<style scoped>\n",
              "    .dataframe tbody tr th:only-of-type {\n",
              "        vertical-align: middle;\n",
              "    }\n",
              "\n",
              "    .dataframe tbody tr th {\n",
              "        vertical-align: top;\n",
              "    }\n",
              "\n",
              "    .dataframe thead th {\n",
              "        text-align: right;\n",
              "    }\n",
              "</style>\n",
              "<table border=\"1\" class=\"dataframe\">\n",
              "  <thead>\n",
              "    <tr style=\"text-align: right;\">\n",
              "      <th></th>\n",
              "      <th>Unnamed: 0</th>\n",
              "      <th>Age</th>\n",
              "      <th>Is_Private_Sector</th>\n",
              "      <th>GraduateOrNot</th>\n",
              "      <th>AnnualIncome</th>\n",
              "      <th>FamilyMembers</th>\n",
              "      <th>ChronicDiseases</th>\n",
              "      <th>FrequentFlyer</th>\n",
              "      <th>EverTravelledAbroad</th>\n",
              "      <th>TravelInsurance</th>\n",
              "    </tr>\n",
              "  </thead>\n",
              "  <tbody>\n",
              "    <tr>\n",
              "      <th>0</th>\n",
              "      <td>0</td>\n",
              "      <td>31</td>\n",
              "      <td>0</td>\n",
              "      <td>1</td>\n",
              "      <td>400000</td>\n",
              "      <td>6</td>\n",
              "      <td>1</td>\n",
              "      <td>0</td>\n",
              "      <td>0</td>\n",
              "      <td>0</td>\n",
              "    </tr>\n",
              "    <tr>\n",
              "      <th>1</th>\n",
              "      <td>1</td>\n",
              "      <td>31</td>\n",
              "      <td>1</td>\n",
              "      <td>1</td>\n",
              "      <td>1250000</td>\n",
              "      <td>7</td>\n",
              "      <td>0</td>\n",
              "      <td>0</td>\n",
              "      <td>0</td>\n",
              "      <td>0</td>\n",
              "    </tr>\n",
              "    <tr>\n",
              "      <th>2</th>\n",
              "      <td>2</td>\n",
              "      <td>34</td>\n",
              "      <td>1</td>\n",
              "      <td>1</td>\n",
              "      <td>500000</td>\n",
              "      <td>4</td>\n",
              "      <td>1</td>\n",
              "      <td>0</td>\n",
              "      <td>0</td>\n",
              "      <td>1</td>\n",
              "    </tr>\n",
              "    <tr>\n",
              "      <th>3</th>\n",
              "      <td>3</td>\n",
              "      <td>28</td>\n",
              "      <td>1</td>\n",
              "      <td>1</td>\n",
              "      <td>700000</td>\n",
              "      <td>3</td>\n",
              "      <td>1</td>\n",
              "      <td>0</td>\n",
              "      <td>0</td>\n",
              "      <td>0</td>\n",
              "    </tr>\n",
              "    <tr>\n",
              "      <th>4</th>\n",
              "      <td>4</td>\n",
              "      <td>28</td>\n",
              "      <td>1</td>\n",
              "      <td>1</td>\n",
              "      <td>700000</td>\n",
              "      <td>8</td>\n",
              "      <td>1</td>\n",
              "      <td>1</td>\n",
              "      <td>0</td>\n",
              "      <td>0</td>\n",
              "    </tr>\n",
              "  </tbody>\n",
              "</table>\n",
              "</div>"
            ],
            "text/plain": [
              "   Unnamed: 0  Age  Is_Private_Sector  GraduateOrNot  AnnualIncome  \\\n",
              "0           0   31                  0              1        400000   \n",
              "1           1   31                  1              1       1250000   \n",
              "2           2   34                  1              1        500000   \n",
              "3           3   28                  1              1        700000   \n",
              "4           4   28                  1              1        700000   \n",
              "\n",
              "   FamilyMembers  ChronicDiseases  FrequentFlyer  EverTravelledAbroad  \\\n",
              "0              6                1              0                    0   \n",
              "1              7                0              0                    0   \n",
              "2              4                1              0                    0   \n",
              "3              3                1              0                    0   \n",
              "4              8                1              1                    0   \n",
              "\n",
              "   TravelInsurance  \n",
              "0                0  \n",
              "1                0  \n",
              "2                1  \n",
              "3                0  \n",
              "4                0  "
            ]
          },
          "execution_count": 130,
          "metadata": {},
          "output_type": "execute_result"
        }
      ],
      "source": [
        "df['Employment Type'] = df['Employment Type'].map({'Private Sector/Self Employed': 1, 'Government Sector': 0})\n",
        "df.rename(columns={'Employment Type' : 'Is_Private_Sector'}, inplace= True)\n",
        "df['GraduateOrNot'] = df['GraduateOrNot'].map({'Yes': 1, 'No': 0})\n",
        "df['FrequentFlyer'] = df['FrequentFlyer'].map({'No': 0, 'Yes': 1})\n",
        "df['EverTravelledAbroad'] = df['EverTravelledAbroad'].map({'No': 0, 'Yes': 1})\n",
        "df.head()\n"
      ]
    },
    {
      "cell_type": "code",
      "execution_count": 131,
      "metadata": {},
      "outputs": [
        {
          "data": {
            "text/html": [
              "<div>\n",
              "<style scoped>\n",
              "    .dataframe tbody tr th:only-of-type {\n",
              "        vertical-align: middle;\n",
              "    }\n",
              "\n",
              "    .dataframe tbody tr th {\n",
              "        vertical-align: top;\n",
              "    }\n",
              "\n",
              "    .dataframe thead th {\n",
              "        text-align: right;\n",
              "    }\n",
              "</style>\n",
              "<table border=\"1\" class=\"dataframe\">\n",
              "  <thead>\n",
              "    <tr style=\"text-align: right;\">\n",
              "      <th></th>\n",
              "      <th>Unnamed: 0</th>\n",
              "      <th>Age</th>\n",
              "      <th>Is_Private_Sector</th>\n",
              "      <th>GraduateOrNot</th>\n",
              "      <th>AnnualIncome</th>\n",
              "      <th>FamilyMembers</th>\n",
              "      <th>ChronicDiseases</th>\n",
              "      <th>FrequentFlyer</th>\n",
              "      <th>EverTravelledAbroad</th>\n",
              "      <th>TravelInsurance</th>\n",
              "    </tr>\n",
              "  </thead>\n",
              "  <tbody>\n",
              "    <tr>\n",
              "      <th>0</th>\n",
              "      <td>0</td>\n",
              "      <td>0.6</td>\n",
              "      <td>0</td>\n",
              "      <td>1</td>\n",
              "      <td>0.066667</td>\n",
              "      <td>0.571429</td>\n",
              "      <td>1</td>\n",
              "      <td>0</td>\n",
              "      <td>0</td>\n",
              "      <td>0</td>\n",
              "    </tr>\n",
              "    <tr>\n",
              "      <th>1</th>\n",
              "      <td>1</td>\n",
              "      <td>0.6</td>\n",
              "      <td>1</td>\n",
              "      <td>1</td>\n",
              "      <td>0.633333</td>\n",
              "      <td>0.714286</td>\n",
              "      <td>0</td>\n",
              "      <td>0</td>\n",
              "      <td>0</td>\n",
              "      <td>0</td>\n",
              "    </tr>\n",
              "    <tr>\n",
              "      <th>2</th>\n",
              "      <td>2</td>\n",
              "      <td>0.9</td>\n",
              "      <td>1</td>\n",
              "      <td>1</td>\n",
              "      <td>0.133333</td>\n",
              "      <td>0.285714</td>\n",
              "      <td>1</td>\n",
              "      <td>0</td>\n",
              "      <td>0</td>\n",
              "      <td>1</td>\n",
              "    </tr>\n",
              "    <tr>\n",
              "      <th>3</th>\n",
              "      <td>3</td>\n",
              "      <td>0.3</td>\n",
              "      <td>1</td>\n",
              "      <td>1</td>\n",
              "      <td>0.266667</td>\n",
              "      <td>0.142857</td>\n",
              "      <td>1</td>\n",
              "      <td>0</td>\n",
              "      <td>0</td>\n",
              "      <td>0</td>\n",
              "    </tr>\n",
              "    <tr>\n",
              "      <th>4</th>\n",
              "      <td>4</td>\n",
              "      <td>0.3</td>\n",
              "      <td>1</td>\n",
              "      <td>1</td>\n",
              "      <td>0.266667</td>\n",
              "      <td>0.857143</td>\n",
              "      <td>1</td>\n",
              "      <td>1</td>\n",
              "      <td>0</td>\n",
              "      <td>0</td>\n",
              "    </tr>\n",
              "  </tbody>\n",
              "</table>\n",
              "</div>"
            ],
            "text/plain": [
              "   Unnamed: 0  Age  Is_Private_Sector  GraduateOrNot  AnnualIncome  \\\n",
              "0           0  0.6                  0              1      0.066667   \n",
              "1           1  0.6                  1              1      0.633333   \n",
              "2           2  0.9                  1              1      0.133333   \n",
              "3           3  0.3                  1              1      0.266667   \n",
              "4           4  0.3                  1              1      0.266667   \n",
              "\n",
              "   FamilyMembers  ChronicDiseases  FrequentFlyer  EverTravelledAbroad  \\\n",
              "0       0.571429                1              0                    0   \n",
              "1       0.714286                0              0                    0   \n",
              "2       0.285714                1              0                    0   \n",
              "3       0.142857                1              0                    0   \n",
              "4       0.857143                1              1                    0   \n",
              "\n",
              "   TravelInsurance  \n",
              "0                0  \n",
              "1                0  \n",
              "2                1  \n",
              "3                0  \n",
              "4                0  "
            ]
          },
          "execution_count": 131,
          "metadata": {},
          "output_type": "execute_result"
        }
      ],
      "source": [
        "from sklearn.preprocessing import MinMaxScaler\n",
        "\n",
        "df['AnnualIncome'] = MinMaxScaler().fit_transform(df['AnnualIncome'].values.reshape(len(df), 1))\n",
        "df['Age'] = MinMaxScaler().fit_transform(df['Age'].values.reshape(len(df), 1))\n",
        "df['FamilyMembers'] = MinMaxScaler().fit_transform(df['FamilyMembers'].values.reshape(len(df), 1))\n",
        "\n",
        "df.head()\n"
      ]
    },
    {
      "attachments": {},
      "cell_type": "markdown",
      "metadata": {},
      "source": [
        "##### Handling Imbalanced"
      ]
    },
    {
      "cell_type": "code",
      "execution_count": 132,
      "metadata": {},
      "outputs": [],
      "source": [
        "# Train Test Split\n",
        "\n",
        "from sklearn.model_selection import train_test_split\n",
        "df.drop(columns=('Unnamed: 0'),inplace=True)\n",
        "\n",
        "X = df.drop(['TravelInsurance'], axis=1)\n",
        "y = df['TravelInsurance']\n",
        "\n",
        "X_train, X_test, y_train, y_test = train_test_split(\n",
        "    X, y, test_size=0.3, random_state=69)\n"
      ]
    },
    {
      "cell_type": "code",
      "execution_count": 133,
      "metadata": {},
      "outputs": [],
      "source": [
        "# handling imbalance data\n",
        "from imblearn import over_sampling\n",
        "X_over_SMOTE, y_over_SMOTE = over_sampling.SMOTE().fit_resample(X_train, y_train)\n"
      ]
    },
    {
      "cell_type": "code",
      "execution_count": 134,
      "metadata": {},
      "outputs": [
        {
          "name": "stdout",
          "output_type": "stream",
          "text": [
            "Target(y_train) values :\n",
            "0 = not purcashed\n",
            "1 = purcashed\n",
            "\n",
            "Target before SMOTE:\n",
            "0    904\n",
            "1    486\n",
            "Name: TravelInsurance, dtype: int64\n",
            "\n",
            "Target after SMOTE:\n",
            "0    904\n",
            "1    904\n",
            "Name: TravelInsurance, dtype: int64\n",
            "\n",
            "***************** ♥ *****************\n",
            "X_train :\n",
            "\n",
            "Before SMOTE:(1390, 8)\n",
            "After  SMOTE:(1808, 8)\n"
          ]
        }
      ],
      "source": [
        "print('Target(y_train) values :\\n0 = not purcashed\\n1 = purcashed\\n')\n",
        "print(f'Target before SMOTE:\\n{pd.Series(y_train).value_counts()}\\n\\nTarget after SMOTE:\\n{pd.Series(y_over_SMOTE).value_counts()}\\n')\n",
        "print('*'*17, '♥', '*'*17)\n",
        "print('X_train :')\n",
        "print(f'\\nBefore SMOTE:{X_train.shape}\\nAfter  SMOTE:{X_over_SMOTE.shape}')\n"
      ]
    },
    {
      "cell_type": "code",
      "execution_count": 135,
      "metadata": {},
      "outputs": [
        {
          "data": {
            "text/html": [
              "<div>\n",
              "<style scoped>\n",
              "    .dataframe tbody tr th:only-of-type {\n",
              "        vertical-align: middle;\n",
              "    }\n",
              "\n",
              "    .dataframe tbody tr th {\n",
              "        vertical-align: top;\n",
              "    }\n",
              "\n",
              "    .dataframe thead th {\n",
              "        text-align: right;\n",
              "    }\n",
              "</style>\n",
              "<table border=\"1\" class=\"dataframe\">\n",
              "  <thead>\n",
              "    <tr style=\"text-align: right;\">\n",
              "      <th></th>\n",
              "      <th>Age</th>\n",
              "      <th>Is_Private_Sector</th>\n",
              "      <th>GraduateOrNot</th>\n",
              "      <th>AnnualIncome</th>\n",
              "      <th>FamilyMembers</th>\n",
              "      <th>ChronicDiseases</th>\n",
              "      <th>FrequentFlyer</th>\n",
              "      <th>EverTravelledAbroad</th>\n",
              "      <th>TravelInsurance</th>\n",
              "    </tr>\n",
              "  </thead>\n",
              "  <tbody>\n",
              "    <tr>\n",
              "      <th>0</th>\n",
              "      <td>0.6</td>\n",
              "      <td>0</td>\n",
              "      <td>1</td>\n",
              "      <td>0.066667</td>\n",
              "      <td>0.571429</td>\n",
              "      <td>1</td>\n",
              "      <td>0</td>\n",
              "      <td>0</td>\n",
              "      <td>0</td>\n",
              "    </tr>\n",
              "    <tr>\n",
              "      <th>1</th>\n",
              "      <td>0.6</td>\n",
              "      <td>1</td>\n",
              "      <td>1</td>\n",
              "      <td>0.633333</td>\n",
              "      <td>0.714286</td>\n",
              "      <td>0</td>\n",
              "      <td>0</td>\n",
              "      <td>0</td>\n",
              "      <td>0</td>\n",
              "    </tr>\n",
              "    <tr>\n",
              "      <th>2</th>\n",
              "      <td>0.9</td>\n",
              "      <td>1</td>\n",
              "      <td>1</td>\n",
              "      <td>0.133333</td>\n",
              "      <td>0.285714</td>\n",
              "      <td>1</td>\n",
              "      <td>0</td>\n",
              "      <td>0</td>\n",
              "      <td>1</td>\n",
              "    </tr>\n",
              "    <tr>\n",
              "      <th>3</th>\n",
              "      <td>0.3</td>\n",
              "      <td>1</td>\n",
              "      <td>1</td>\n",
              "      <td>0.266667</td>\n",
              "      <td>0.142857</td>\n",
              "      <td>1</td>\n",
              "      <td>0</td>\n",
              "      <td>0</td>\n",
              "      <td>0</td>\n",
              "    </tr>\n",
              "    <tr>\n",
              "      <th>4</th>\n",
              "      <td>0.3</td>\n",
              "      <td>1</td>\n",
              "      <td>1</td>\n",
              "      <td>0.266667</td>\n",
              "      <td>0.857143</td>\n",
              "      <td>1</td>\n",
              "      <td>1</td>\n",
              "      <td>0</td>\n",
              "      <td>0</td>\n",
              "    </tr>\n",
              "  </tbody>\n",
              "</table>\n",
              "</div>"
            ],
            "text/plain": [
              "   Age  Is_Private_Sector  GraduateOrNot  AnnualIncome  FamilyMembers  \\\n",
              "0  0.6                  0              1      0.066667       0.571429   \n",
              "1  0.6                  1              1      0.633333       0.714286   \n",
              "2  0.9                  1              1      0.133333       0.285714   \n",
              "3  0.3                  1              1      0.266667       0.142857   \n",
              "4  0.3                  1              1      0.266667       0.857143   \n",
              "\n",
              "   ChronicDiseases  FrequentFlyer  EverTravelledAbroad  TravelInsurance  \n",
              "0                1              0                    0                0  \n",
              "1                0              0                    0                0  \n",
              "2                1              0                    0                1  \n",
              "3                1              0                    0                0  \n",
              "4                1              1                    0                0  "
            ]
          },
          "execution_count": 135,
          "metadata": {},
          "output_type": "execute_result"
        }
      ],
      "source": [
        "df.head()"
      ]
    },
    {
      "attachments": {},
      "cell_type": "markdown",
      "metadata": {},
      "source": [
        "##### Cek data train duplicate"
      ]
    },
    {
      "cell_type": "code",
      "execution_count": 136,
      "metadata": {},
      "outputs": [
        {
          "data": {
            "text/plain": [
              "515"
            ]
          },
          "execution_count": 136,
          "metadata": {},
          "output_type": "execute_result"
        }
      ],
      "source": [
        "X_train.duplicated().sum()"
      ]
    },
    {
      "attachments": {},
      "cell_type": "markdown",
      "metadata": {},
      "source": [
        "#### Modeling\n"
      ]
    },
    {
      "cell_type": "code",
      "execution_count": 137,
      "metadata": {},
      "outputs": [],
      "source": [
        "from sklearn.metrics import accuracy_score, precision_score, recall_score, f1_score, roc_auc_score\n",
        "from sklearn.model_selection import cross_validate\n",
        "from sklearn.ensemble import RandomForestClassifier\n",
        "import matplotlib.pyplot as plt\n",
        "\n",
        "def eval_classification(model):\n",
        "    y_pred = model.predict(X_test)\n",
        "    y_pred_train = model.predict(X_train)\n",
        "    y_pred_proba = model.predict_proba(X_test)\n",
        "    y_pred_proba_train = model.predict_proba(X_train)\n",
        "    \n",
        "    print(\"Accuracy (Train Set): %.2f\" % accuracy_score(y_train, y_pred_train))\n",
        "    print(\"Accuracy (Test Set): %.2f\" % accuracy_score(y_test, y_pred),\"\\n\")\n",
        "\n",
        "    print(\"Precision (Train Set): %.2f\" % precision_score(y_train, y_pred_train))\n",
        "    print(\"Precision (Test Set): %.2f\" % precision_score(y_test, y_pred),\"\\n\")\n",
        "\n",
        "    print(\"Recall (Train Set): %.2f\" % recall_score(y_train, y_pred_train))\n",
        "    print(\"Recall (Test Set): %.2f\" % recall_score(y_test, y_pred),\"\\n\")\n",
        "\n",
        "    print(\"F1-Score (Train Set): %.2f\" % f1_score(y_train, y_pred_train))\n",
        "    print(\"F1-Score (Test Set): %.2f\" % f1_score(y_test, y_pred),\"\\n\")\n",
        "    \n",
        "    print(\"roc_auc (train-proba): %.2f\" % roc_auc_score(y_train, y_pred_proba_train[:, 1]))\n",
        "    print(\"roc_auc (test-proba): %.2f\" % roc_auc_score(y_test, y_pred_proba[:, 1]),\"\\n\")\n",
        "    \n",
        "    score = cross_validate(RandomForestClassifier(), X, y, cv=5, scoring='roc_auc', return_train_score=True)\n",
        "    print('roc_auc (crossval train): '+ str(score['train_score'].mean()))\n",
        "    print('roc_auc (crossval test): '+ str(score['test_score'].mean()),\"\\n\")\n",
        "\n",
        "def show_feature_importance(model):\n",
        "    feat_importances = pd.Series(model.feature_importances_, index=X.columns)\n",
        "    ax = feat_importances.nlargest(25).plot(kind='barh', figsize=(10, 8))\n",
        "    ax.invert_yaxis()\n",
        "\n",
        "    plt.xlabel('score')\n",
        "    plt.ylabel('feature')\n",
        "    plt.title('feature importance score')\n",
        "\n",
        "def show_best_hyperparameter(model):\n",
        "    print(model.best_estimator_.get_params())"
      ]
    },
    {
      "attachments": {},
      "cell_type": "markdown",
      "metadata": {},
      "source": [
        "##### Logistic Regression"
      ]
    },
    {
      "cell_type": "code",
      "execution_count": 138,
      "metadata": {},
      "outputs": [
        {
          "name": "stdout",
          "output_type": "stream",
          "text": [
            "Accuracy (Train Set): 0.77\n",
            "Accuracy (Test Set): 0.78 \n",
            "\n",
            "Precision (Train Set): 0.78\n",
            "Precision (Test Set): 0.83 \n",
            "\n",
            "Recall (Train Set): 0.46\n",
            "Recall (Test Set): 0.51 \n",
            "\n",
            "F1-Score (Train Set): 0.58\n",
            "F1-Score (Test Set): 0.63 \n",
            "\n",
            "roc_auc (train-proba): 0.76\n",
            "roc_auc (test-proba): 0.78 \n",
            "\n",
            "roc_auc (crossval train): 0.9797568527367767\n",
            "roc_auc (crossval test): 0.7919763942108534 \n",
            "\n"
          ]
        }
      ],
      "source": [
        "from sklearn.linear_model import LogisticRegression # import logistic regression dari sklearn\n",
        "logreg = LogisticRegression() # inisiasi object dengan nama logreg\n",
        "logreg.fit(X_train, y_train) # fit model regression dari data train\n",
        "eval_classification(logreg)"
      ]
    },
    {
      "cell_type": "code",
      "execution_count": 159,
      "metadata": {},
      "outputs": [
        {
          "name": "stdout",
          "output_type": "stream",
          "text": [
            "Accuracy (Train Set): 0.73\n",
            "Accuracy (Test Set): 0.75 \n",
            "\n",
            "Precision (Train Set): 0.62\n",
            "Precision (Test Set): 0.68 \n",
            "\n",
            "Recall (Train Set): 0.61\n",
            "Recall (Test Set): 0.64 \n",
            "\n",
            "F1-Score (Train Set): 0.62\n",
            "F1-Score (Test Set): 0.66 \n",
            "\n",
            "roc_auc (train-proba): 0.76\n",
            "roc_auc (test-proba): 0.79 \n",
            "\n",
            "roc_auc (crossval train): 0.979723559076812\n",
            "roc_auc (crossval test): 0.7922028941418116 \n",
            "\n"
          ]
        }
      ],
      "source": [
        "#Logreg Oversampling\n",
        "from sklearn.linear_model import LogisticRegression # import logistic regression dari sklearn\n",
        "logreg = LogisticRegression() # inisiasi object dengan nama logreg\n",
        "logreg.fit(X_over_SMOTE, y_over_SMOTE) # fit model regression dari data train\n",
        "eval_classification(logreg)"
      ]
    },
    {
      "cell_type": "code",
      "execution_count": 139,
      "metadata": {},
      "outputs": [
        {
          "name": "stdout",
          "output_type": "stream",
          "text": [
            "Accuracy (Train Set): 0.75\n",
            "Accuracy (Test Set): 0.76 \n",
            "\n",
            "Precision (Train Set): 0.78\n",
            "Precision (Test Set): 0.84 \n",
            "\n",
            "Recall (Train Set): 0.41\n",
            "Recall (Test Set): 0.45 \n",
            "\n",
            "F1-Score (Train Set): 0.54\n",
            "F1-Score (Test Set): 0.58 \n",
            "\n",
            "roc_auc (train-proba): 0.75\n",
            "roc_auc (test-proba): 0.78 \n",
            "\n",
            "roc_auc (crossval train): 0.9798833631442635\n",
            "roc_auc (crossval test): 0.7916499132663628 \n",
            "\n"
          ]
        }
      ],
      "source": [
        "from sklearn.model_selection import RandomizedSearchCV\n",
        "\n",
        "penalty = ['l1', 'l2']\n",
        "C = [float(x) for x in np.linspace(0.0001, 0.05, 100)]\n",
        "hyperparameters = dict(penalty=penalty, C=C)\n",
        "\n",
        "logreg = LogisticRegression()\n",
        "rs = RandomizedSearchCV(logreg, hyperparameters, scoring='roc_auc', random_state=1, cv=5, n_iter=50)\n",
        "rs.fit(X_train, y_train)\n",
        "eval_classification(rs)"
      ]
    },
    {
      "cell_type": "code",
      "execution_count": 160,
      "metadata": {},
      "outputs": [
        {
          "name": "stdout",
          "output_type": "stream",
          "text": [
            "Accuracy (Train Set): 0.75\n",
            "Accuracy (Test Set): 0.78 \n",
            "\n",
            "Precision (Train Set): 0.66\n",
            "Precision (Test Set): 0.75 \n",
            "\n",
            "Recall (Train Set): 0.57\n",
            "Recall (Test Set): 0.62 \n",
            "\n",
            "F1-Score (Train Set): 0.61\n",
            "F1-Score (Test Set): 0.68 \n",
            "\n",
            "roc_auc (train-proba): 0.76\n",
            "roc_auc (test-proba): 0.78 \n",
            "\n",
            "roc_auc (crossval train): 0.9798887835485672\n",
            "roc_auc (crossval test): 0.7907529536902789 \n",
            "\n"
          ]
        }
      ],
      "source": [
        "#Logreg-Hyper Oversampling\n",
        "from sklearn.model_selection import RandomizedSearchCV\n",
        "\n",
        "penalty = ['l1', 'l2']\n",
        "C = [float(x) for x in np.linspace(0.0001, 0.05, 100)]\n",
        "hyperparameters = dict(penalty=penalty, C=C)\n",
        "\n",
        "logreg = LogisticRegression()\n",
        "rs = RandomizedSearchCV(logreg, hyperparameters, scoring='roc_auc', random_state=1, cv=5, n_iter=50)\n",
        "rs.fit(X_over_SMOTE, y_over_SMOTE)\n",
        "eval_classification(rs)"
      ]
    },
    {
      "attachments": {},
      "cell_type": "markdown",
      "metadata": {},
      "source": [
        "##### KNN"
      ]
    },
    {
      "cell_type": "code",
      "execution_count": 140,
      "metadata": {},
      "outputs": [
        {
          "name": "stdout",
          "output_type": "stream",
          "text": [
            "Accuracy (Train Set): 0.83\n",
            "Accuracy (Test Set): 0.78 \n",
            "\n",
            "Precision (Train Set): 0.83\n",
            "Precision (Test Set): 0.77 \n",
            "\n",
            "Recall (Train Set): 0.65\n",
            "Recall (Test Set): 0.58 \n",
            "\n",
            "F1-Score (Train Set): 0.73\n",
            "F1-Score (Test Set): 0.66 \n",
            "\n",
            "roc_auc (train-proba): 0.88\n",
            "roc_auc (test-proba): 0.78 \n",
            "\n",
            "roc_auc (crossval train): 0.9798735785434299\n",
            "roc_auc (crossval test): 0.7913343819041702 \n",
            "\n"
          ]
        }
      ],
      "source": [
        "# knn\n",
        "from sklearn.neighbors import KNeighborsClassifier # import knn dari sklearn\n",
        "knn = KNeighborsClassifier() # inisiasi object dengan nama knn\n",
        "knn.fit(X_train, y_train) # fit model KNN dari data train\n",
        "eval_classification(knn)"
      ]
    },
    {
      "cell_type": "code",
      "execution_count": 161,
      "metadata": {},
      "outputs": [
        {
          "name": "stdout",
          "output_type": "stream",
          "text": [
            "Accuracy (Train Set): 0.82\n",
            "Accuracy (Test Set): 0.73 \n",
            "\n",
            "Precision (Train Set): 0.72\n",
            "Precision (Test Set): 0.63 \n",
            "\n",
            "Recall (Train Set): 0.79\n",
            "Recall (Test Set): 0.67 \n",
            "\n",
            "F1-Score (Train Set): 0.75\n",
            "F1-Score (Test Set): 0.65 \n",
            "\n",
            "roc_auc (train-proba): 0.90\n",
            "roc_auc (test-proba): 0.77 \n",
            "\n",
            "roc_auc (crossval train): 0.9798112778073186\n",
            "roc_auc (crossval test): 0.7907309897990887 \n",
            "\n"
          ]
        }
      ],
      "source": [
        "# knn (oversampling)\n",
        "from sklearn.neighbors import KNeighborsClassifier # import knn dari sklearn\n",
        "knn = KNeighborsClassifier() # inisiasi object dengan nama knn\n",
        "knn.fit(X_over_SMOTE, y_over_SMOTE) # fit model KNN dari data train\n",
        "eval_classification(knn)"
      ]
    },
    {
      "cell_type": "code",
      "execution_count": 141,
      "metadata": {},
      "outputs": [
        {
          "name": "stdout",
          "output_type": "stream",
          "text": [
            "Accuracy (Train Set): 0.79\n",
            "Accuracy (Test Set): 0.80 \n",
            "\n",
            "Precision (Train Set): 0.83\n",
            "Precision (Test Set): 0.87 \n",
            "\n",
            "Recall (Train Set): 0.51\n",
            "Recall (Test Set): 0.55 \n",
            "\n",
            "F1-Score (Train Set): 0.64\n",
            "F1-Score (Test Set): 0.67 \n",
            "\n",
            "roc_auc (train-proba): 0.82\n",
            "roc_auc (test-proba): 0.80 \n",
            "\n",
            "roc_auc (crossval train): 0.9797286562072987\n",
            "roc_auc (crossval test): 0.7925476064105219 \n",
            "\n"
          ]
        }
      ],
      "source": [
        "from sklearn.model_selection import RandomizedSearchCV\n",
        "\n",
        "n_neighbors = list(range(1,30))\n",
        "p=[1,2]\n",
        "algorithm = ['auto', 'ball_tree', 'kd_tree', 'brute']\n",
        "hyperparameters = dict(n_neighbors=n_neighbors, p=p, algorithm=algorithm)\n",
        "\n",
        "knn.fit(X_train, y_train)\n",
        "rs = RandomizedSearchCV(knn, hyperparameters, scoring='roc_auc', random_state=1, cv=5)\n",
        "rs.fit(X_train, y_train)\n",
        "eval_classification(rs)"
      ]
    },
    {
      "cell_type": "code",
      "execution_count": 142,
      "metadata": {},
      "outputs": [
        {
          "name": "stdout",
          "output_type": "stream",
          "text": [
            "{'algorithm': 'ball_tree', 'leaf_size': 30, 'metric': 'minkowski', 'metric_params': None, 'n_jobs': None, 'n_neighbors': 27, 'p': 1, 'weights': 'uniform'}\n"
          ]
        }
      ],
      "source": [
        "show_best_hyperparameter(rs)"
      ]
    },
    {
      "cell_type": "code",
      "execution_count": 162,
      "metadata": {},
      "outputs": [
        {
          "name": "stdout",
          "output_type": "stream",
          "text": [
            "Accuracy (Train Set): 0.86\n",
            "Accuracy (Test Set): 0.75 \n",
            "\n",
            "Precision (Train Set): 0.80\n",
            "Precision (Test Set): 0.66 \n",
            "\n",
            "Recall (Train Set): 0.81\n",
            "Recall (Test Set): 0.69 \n",
            "\n",
            "F1-Score (Train Set): 0.80\n",
            "F1-Score (Test Set): 0.67 \n",
            "\n",
            "roc_auc (train-proba): 0.93\n",
            "roc_auc (test-proba): 0.77 \n",
            "\n",
            "roc_auc (crossval train): 0.9798043986214795\n",
            "roc_auc (crossval test): 0.7890322295291355 \n",
            "\n"
          ]
        }
      ],
      "source": [
        "#KNN-hyper oversampling\n",
        "from sklearn.model_selection import RandomizedSearchCV\n",
        "\n",
        "n_neighbors = list(range(1,30))\n",
        "p=[1,2]\n",
        "algorithm = ['auto', 'ball_tree', 'kd_tree', 'brute']\n",
        "hyperparameters = dict(n_neighbors=n_neighbors, p=p, algorithm=algorithm)\n",
        "\n",
        "knn.fit(X_train, y_train)\n",
        "rs = RandomizedSearchCV(knn, hyperparameters, scoring='roc_auc', random_state=1, cv=5)\n",
        "rs.fit(X_over_SMOTE, y_over_SMOTE)\n",
        "eval_classification(rs)"
      ]
    },
    {
      "attachments": {},
      "cell_type": "markdown",
      "metadata": {},
      "source": [
        "##### Decision Tree"
      ]
    },
    {
      "cell_type": "code",
      "execution_count": 143,
      "metadata": {},
      "outputs": [
        {
          "name": "stdout",
          "output_type": "stream",
          "text": [
            "Accuracy (Train Set): 0.92\n",
            "Accuracy (Test Set): 0.78 \n",
            "\n",
            "Precision (Train Set): 0.97\n",
            "Precision (Test Set): 0.74 \n",
            "\n",
            "Recall (Train Set): 0.80\n",
            "Recall (Test Set): 0.65 \n",
            "\n",
            "F1-Score (Train Set): 0.88\n",
            "F1-Score (Test Set): 0.69 \n",
            "\n",
            "roc_auc (train-proba): 0.98\n",
            "roc_auc (test-proba): 0.76 \n",
            "\n",
            "roc_auc (crossval train): 0.9796422061071837\n",
            "roc_auc (crossval test): 0.7924010006731567 \n",
            "\n"
          ]
        }
      ],
      "source": [
        "# decision tree\n",
        "from sklearn.tree import DecisionTreeClassifier # import decision tree dari sklearn\n",
        "dt = DecisionTreeClassifier() # inisiasi object dengan nama dt\n",
        "dt.fit(X_train, y_train) # fit model decision tree dari data train\n",
        "eval_classification(dt)"
      ]
    },
    {
      "cell_type": "code",
      "execution_count": 163,
      "metadata": {},
      "outputs": [
        {
          "name": "stdout",
          "output_type": "stream",
          "text": [
            "Accuracy (Train Set): 0.92\n",
            "Accuracy (Test Set): 0.78 \n",
            "\n",
            "Precision (Train Set): 0.97\n",
            "Precision (Test Set): 0.73 \n",
            "\n",
            "Recall (Train Set): 0.80\n",
            "Recall (Test Set): 0.65 \n",
            "\n",
            "F1-Score (Train Set): 0.88\n",
            "F1-Score (Test Set): 0.69 \n",
            "\n",
            "roc_auc (train-proba): 0.98\n",
            "roc_auc (test-proba): 0.75 \n",
            "\n",
            "roc_auc (crossval train): 0.9797968364437762\n",
            "roc_auc (crossval test): 0.7905754410038662 \n",
            "\n"
          ]
        }
      ],
      "source": [
        "# decision tree (oversampling)\n",
        "from sklearn.tree import DecisionTreeClassifier # import decision tree dari sklearn\n",
        "dt = DecisionTreeClassifier() # inisiasi object dengan nama dt\n",
        "dt.fit(X_over_SMOTE, y_over_SMOTE) # fit model decision tree dari data train\n",
        "eval_classification(dt)"
      ]
    },
    {
      "cell_type": "code",
      "execution_count": 144,
      "metadata": {},
      "outputs": [
        {
          "name": "stdout",
          "output_type": "stream",
          "text": [
            "Accuracy (Train Set): 0.81\n",
            "Accuracy (Test Set): 0.80 \n",
            "\n",
            "Precision (Train Set): 0.80\n",
            "Precision (Test Set): 0.79 \n",
            "\n",
            "Recall (Train Set): 0.60\n",
            "Recall (Test Set): 0.63 \n",
            "\n",
            "F1-Score (Train Set): 0.69\n",
            "F1-Score (Test Set): 0.70 \n",
            "\n",
            "roc_auc (train-proba): 0.82\n",
            "roc_auc (test-proba): 0.80 \n",
            "\n",
            "roc_auc (crossval train): 0.9797930759391658\n",
            "roc_auc (crossval test): 0.7952751959058271 \n",
            "\n"
          ]
        }
      ],
      "source": [
        "from sklearn.model_selection import RandomizedSearchCV, GridSearchCV\n",
        "from scipy.stats import uniform\n",
        "import numpy as np\n",
        "\n",
        "# List of hyperparameter\n",
        "max_depth = [int(x) for x in np.linspace(1, 110, num = 30)] # Maximum number of levels in tree\n",
        "min_samples_split = [2, 5, 10, 100] # Minimum number of samples required to split a node\n",
        "min_samples_leaf = [1, 2, 4, 10, 20, 50] # Minimum number of samples required at each leaf node\n",
        "max_features = ['auto', 'sqrt'] # Number of features to consider at every split\n",
        "criterion = ['gini','entropy']\n",
        "splitter = ['best','random']\n",
        "\n",
        "hyperparameters = dict(max_depth=max_depth, \n",
        "                       min_samples_split=min_samples_split, \n",
        "                       min_samples_leaf=min_samples_leaf,\n",
        "                       max_features=max_features,\n",
        "                       criterion=criterion,\n",
        "                       splitter=splitter\n",
        "                      )\n",
        "\n",
        "# Inisialisasi Model\n",
        "dt = DecisionTreeClassifier(random_state=42)\n",
        "model = RandomizedSearchCV(dt, hyperparameters, cv=5, scoring='precision')\n",
        "model.fit(X_train, y_train)\n",
        "\n",
        "# Predict & Evaluation\n",
        "y_pred = model.predict(X_test)#Check performa dari model\n",
        "eval_classification(model)"
      ]
    },
    {
      "cell_type": "code",
      "execution_count": 145,
      "metadata": {},
      "outputs": [
        {
          "name": "stdout",
          "output_type": "stream",
          "text": [
            "Accuracy (Train Set): 0.82\n",
            "Accuracy (Test Set): 0.80 \n",
            "\n",
            "Precision (Train Set): 0.84\n",
            "Precision (Test Set): 0.79 \n",
            "\n",
            "Recall (Train Set): 0.62\n",
            "Recall (Test Set): 0.63 \n",
            "\n",
            "F1-Score (Train Set): 0.71\n",
            "F1-Score (Test Set): 0.70 \n",
            "\n",
            "roc_auc (train-proba): 0.84\n",
            "roc_auc (test-proba): 0.79 \n",
            "\n",
            "roc_auc (crossval train): 0.9798998359361757\n",
            "roc_auc (crossval test): 0.7899750586854459 \n",
            "\n"
          ]
        }
      ],
      "source": [
        "# decision tree-hyper (oversampling)\n",
        "from sklearn.model_selection import RandomizedSearchCV, GridSearchCV\n",
        "from scipy.stats import uniform\n",
        "import numpy as np\n",
        "\n",
        "# List of hyperparameter\n",
        "max_depth = [int(x) for x in np.linspace(1, 110, num = 30)] # Maximum number of levels in tree\n",
        "min_samples_split = [2, 5, 10, 100] # Minimum number of samples required to split a node\n",
        "min_samples_leaf = [1, 2, 4, 10, 20, 50] # Minimum number of samples required at each leaf node\n",
        "max_features = ['auto', 'sqrt'] # Number of features to consider at every split\n",
        "criterion = ['gini','entropy']\n",
        "splitter = ['best','random']\n",
        "\n",
        "hyperparameters = dict(max_depth=max_depth, \n",
        "                       min_samples_split=min_samples_split, \n",
        "                       min_samples_leaf=min_samples_leaf,\n",
        "                       max_features=max_features,\n",
        "                       criterion=criterion,\n",
        "                       splitter=splitter\n",
        "                      )\n",
        "\n",
        "# Inisialisasi Model\n",
        "dt = DecisionTreeClassifier(random_state=42)\n",
        "model = RandomizedSearchCV(dt, hyperparameters, cv=5, scoring='precision')\n",
        "model.fit(X_over_SMOTE, y_over_SMOTE)\n",
        "\n",
        "# Predict & Evaluation\n",
        "y_pred = model.predict(X_test)#Check performa dari model\n",
        "eval_classification(model)"
      ]
    },
    {
      "cell_type": "code",
      "execution_count": 146,
      "metadata": {},
      "outputs": [
        {
          "name": "stdout",
          "output_type": "stream",
          "text": [
            "{'ccp_alpha': 0.0, 'class_weight': None, 'criterion': 'gini', 'max_depth': 16, 'max_features': 'sqrt', 'max_leaf_nodes': None, 'min_impurity_decrease': 0.0, 'min_samples_leaf': 2, 'min_samples_split': 100, 'min_weight_fraction_leaf': 0.0, 'random_state': 42, 'splitter': 'best'}\n"
          ]
        }
      ],
      "source": [
        "show_best_hyperparameter(model)"
      ]
    },
    {
      "attachments": {},
      "cell_type": "markdown",
      "metadata": {},
      "source": [
        "##### Random Forest"
      ]
    },
    {
      "cell_type": "code",
      "execution_count": 147,
      "metadata": {},
      "outputs": [
        {
          "name": "stdout",
          "output_type": "stream",
          "text": [
            "Accuracy (Train Set): 0.92\n",
            "Accuracy (Test Set): 0.80 \n",
            "\n",
            "Precision (Train Set): 0.94\n",
            "Precision (Test Set): 0.78 \n",
            "\n",
            "Recall (Train Set): 0.83\n",
            "Recall (Test Set): 0.64 \n",
            "\n",
            "F1-Score (Train Set): 0.88\n",
            "F1-Score (Test Set): 0.70 \n",
            "\n",
            "roc_auc (train-proba): 0.98\n",
            "roc_auc (test-proba): 0.81 \n",
            "\n",
            "roc_auc (crossval train): 0.9797461644540204\n",
            "roc_auc (crossval test): 0.7903625336578294 \n",
            "\n"
          ]
        }
      ],
      "source": [
        "from sklearn.ensemble import RandomForestClassifier\n",
        "\n",
        "rf = RandomForestClassifier(random_state=42)\n",
        "rf.fit(X_train, y_train)\n",
        "eval_classification(rf)"
      ]
    },
    {
      "cell_type": "code",
      "execution_count": 164,
      "metadata": {},
      "outputs": [
        {
          "name": "stdout",
          "output_type": "stream",
          "text": [
            "Accuracy (Train Set): 0.92\n",
            "Accuracy (Test Set): 0.79 \n",
            "\n",
            "Precision (Train Set): 0.92\n",
            "Precision (Test Set): 0.75 \n",
            "\n",
            "Recall (Train Set): 0.85\n",
            "Recall (Test Set): 0.67 \n",
            "\n",
            "F1-Score (Train Set): 0.88\n",
            "F1-Score (Test Set): 0.70 \n",
            "\n",
            "roc_auc (train-proba): 0.98\n",
            "roc_auc (test-proba): 0.81 \n",
            "\n",
            "roc_auc (crossval train): 0.9798152132779773\n",
            "roc_auc (crossval test): 0.7920430302402651 \n",
            "\n"
          ]
        }
      ],
      "source": [
        "#Random Forest (oversample)\n",
        "from sklearn.ensemble import RandomForestClassifier\n",
        "\n",
        "rf = RandomForestClassifier(random_state=42)\n",
        "rf.fit(X_over_SMOTE, y_over_SMOTE)\n",
        "eval_classification(rf)"
      ]
    },
    {
      "cell_type": "code",
      "execution_count": 148,
      "metadata": {},
      "outputs": [
        {
          "name": "stdout",
          "output_type": "stream",
          "text": [
            "Accuracy (Train Set): 0.84\n",
            "Accuracy (Test Set): 0.83 \n",
            "\n",
            "Precision (Train Set): 0.91\n",
            "Precision (Test Set): 0.92 \n",
            "\n",
            "Recall (Train Set): 0.59\n",
            "Recall (Test Set): 0.60 \n",
            "\n",
            "F1-Score (Train Set): 0.71\n",
            "F1-Score (Test Set): 0.73 \n",
            "\n",
            "roc_auc (train-proba): 0.86\n",
            "roc_auc (test-proba): 0.82 \n",
            "\n",
            "roc_auc (crossval train): 0.9796604736086948\n",
            "roc_auc (crossval test): 0.791226536609362 \n",
            "\n"
          ]
        }
      ],
      "source": [
        "# tuning hyperparameter RF \n",
        "from sklearn.model_selection import RandomizedSearchCV\n",
        "\n",
        "n_estimators = [int(x) for x in np.linspace(1, 200, 50)]\n",
        "criterion = ['gini', 'entropy']\n",
        "max_depth = [int(x) for x in np.linspace(2, 100, 50)]\n",
        "min_samples_split = [int(x) for x in np.linspace(2, 20, 10)]\n",
        "min_samples_leaf = [int(x) for x in np.linspace(2, 20, 10)]\n",
        "hyperparameters = dict(n_estimators=n_estimators, criterion=criterion, max_depth=max_depth,\n",
        "                       min_samples_split=min_samples_split, min_samples_leaf=min_samples_leaf)\n",
        "\n",
        "rf = RandomForestClassifier(random_state=42)\n",
        "rs = RandomizedSearchCV(rf, hyperparameters, scoring='roc_auc', random_state=1, cv=5)\n",
        "rs.fit(X_train, y_train)\n",
        "eval_classification(rs)"
      ]
    },
    {
      "cell_type": "code",
      "execution_count": 149,
      "metadata": {},
      "outputs": [
        {
          "name": "stdout",
          "output_type": "stream",
          "text": [
            "{'bootstrap': True, 'ccp_alpha': 0.0, 'class_weight': None, 'criterion': 'entropy', 'max_depth': 8, 'max_features': 'sqrt', 'max_leaf_nodes': None, 'max_samples': None, 'min_impurity_decrease': 0.0, 'min_samples_leaf': 10, 'min_samples_split': 14, 'min_weight_fraction_leaf': 0.0, 'n_estimators': 147, 'n_jobs': None, 'oob_score': False, 'random_state': 42, 'verbose': 0, 'warm_start': False}\n"
          ]
        }
      ],
      "source": [
        "show_best_hyperparameter(rs)"
      ]
    },
    {
      "cell_type": "code",
      "execution_count": 150,
      "metadata": {},
      "outputs": [
        {
          "name": "stdout",
          "output_type": "stream",
          "text": [
            "Accuracy (Train Set): 0.85\n",
            "Accuracy (Test Set): 0.82 \n",
            "\n",
            "Precision (Train Set): 0.91\n",
            "Precision (Test Set): 0.88 \n",
            "\n",
            "Recall (Train Set): 0.65\n",
            "Recall (Test Set): 0.61 \n",
            "\n",
            "F1-Score (Train Set): 0.76\n",
            "F1-Score (Test Set): 0.72 \n",
            "\n",
            "roc_auc (train-proba): 0.90\n",
            "roc_auc (test-proba): 0.82 \n",
            "\n",
            "roc_auc (crossval train): 0.9798738172868806\n",
            "roc_auc (crossval test): 0.7916445948978182 \n",
            "\n"
          ]
        }
      ],
      "source": [
        "# tuning hyperparameter RF + oversampling \n",
        "from sklearn.model_selection import RandomizedSearchCV\n",
        "\n",
        "n_estimators = [int(x) for x in np.linspace(1, 200, 50)]\n",
        "criterion = ['gini', 'entropy']\n",
        "max_depth = [int(x) for x in np.linspace(2, 100, 50)]\n",
        "min_samples_split = [int(x) for x in np.linspace(2, 20, 10)]\n",
        "min_samples_leaf = [int(x) for x in np.linspace(2, 20, 10)]\n",
        "hyperparameters = dict(n_estimators=n_estimators, criterion=criterion, max_depth=max_depth,\n",
        "                       min_samples_split=min_samples_split, min_samples_leaf=min_samples_leaf)\n",
        "\n",
        "rf = RandomForestClassifier(random_state=42)\n",
        "rs = RandomizedSearchCV(rf, hyperparameters, scoring='roc_auc', random_state=1, cv=5)\n",
        "rs.fit(X_over_SMOTE, y_over_SMOTE)\n",
        "eval_classification(rs)"
      ]
    },
    {
      "attachments": {},
      "cell_type": "markdown",
      "metadata": {},
      "source": [
        "##### AdaBoost"
      ]
    },
    {
      "cell_type": "code",
      "execution_count": 151,
      "metadata": {},
      "outputs": [
        {
          "name": "stdout",
          "output_type": "stream",
          "text": [
            "Accuracy (Train Set): 0.82\n",
            "Accuracy (Test Set): 0.79 \n",
            "\n",
            "Precision (Train Set): 0.90\n",
            "Precision (Test Set): 0.87 \n",
            "\n",
            "Recall (Train Set): 0.54\n",
            "Recall (Test Set): 0.53 \n",
            "\n",
            "F1-Score (Train Set): 0.68\n",
            "F1-Score (Test Set): 0.66 \n",
            "\n",
            "roc_auc (train-proba): 0.81\n",
            "roc_auc (test-proba): 0.80 \n",
            "\n",
            "roc_auc (crossval train): 0.9798333201549199\n",
            "roc_auc (crossval test): 0.7900105720104944 \n",
            "\n"
          ]
        }
      ],
      "source": [
        "from sklearn.ensemble import AdaBoostClassifier\n",
        "clf = AdaBoostClassifier()\n",
        "clf.fit(X_train, y_train)\n",
        "eval_classification(clf)"
      ]
    },
    {
      "cell_type": "code",
      "execution_count": 165,
      "metadata": {},
      "outputs": [
        {
          "name": "stdout",
          "output_type": "stream",
          "text": [
            "Accuracy (Train Set): 0.83\n",
            "Accuracy (Test Set): 0.79 \n",
            "\n",
            "Precision (Train Set): 0.87\n",
            "Precision (Test Set): 0.81 \n",
            "\n",
            "Recall (Train Set): 0.60\n",
            "Recall (Test Set): 0.58 \n",
            "\n",
            "F1-Score (Train Set): 0.71\n",
            "F1-Score (Test Set): 0.68 \n",
            "\n",
            "roc_auc (train-proba): 0.81\n",
            "roc_auc (test-proba): 0.79 \n",
            "\n",
            "roc_auc (crossval train): 0.9798481448577693\n",
            "roc_auc (crossval test): 0.7906770509700359 \n",
            "\n"
          ]
        }
      ],
      "source": [
        "#AdaBoost Oversample\n",
        "from sklearn.ensemble import AdaBoostClassifier\n",
        "clf = AdaBoostClassifier()\n",
        "clf.fit(X_over_SMOTE, y_over_SMOTE)\n",
        "eval_classification(clf)"
      ]
    },
    {
      "cell_type": "code",
      "execution_count": 152,
      "metadata": {},
      "outputs": [
        {
          "name": "stdout",
          "output_type": "stream",
          "text": [
            "Accuracy (Train Set): 0.81\n",
            "Accuracy (Test Set): 0.79 \n",
            "\n",
            "Precision (Train Set): 0.89\n",
            "Precision (Test Set): 0.86 \n",
            "\n",
            "Recall (Train Set): 0.53\n",
            "Recall (Test Set): 0.53 \n",
            "\n",
            "F1-Score (Train Set): 0.67\n",
            "F1-Score (Test Set): 0.66 \n",
            "\n",
            "roc_auc (train-proba): 0.82\n",
            "roc_auc (test-proba): 0.80 \n",
            "\n",
            "roc_auc (crossval train): 0.9798098429844899\n",
            "roc_auc (crossval test): 0.791739883233223 \n",
            "\n"
          ]
        }
      ],
      "source": [
        "from sklearn.model_selection import RandomizedSearchCV\n",
        "import numpy as np\n",
        "\n",
        "# List of hyperparameter\n",
        "hyperparameters = dict(n_estimators = [1641], # Jumlah iterasi\n",
        "                       learning_rate = [0.09204020100502513],  \n",
        "                       algorithm = ['SAMME.R'],\n",
        "                      )\n",
        "\n",
        "# Init model\n",
        "ab = AdaBoostClassifier(random_state=42)\n",
        "ab_tuned = RandomizedSearchCV(ab, hyperparameters, cv=5, scoring='recall')\n",
        "ab_tuned.fit(X_train,y_train)\n",
        "\n",
        "# Predict & Evaluation\n",
        "eval_classification(ab_tuned)"
      ]
    },
    {
      "cell_type": "code",
      "execution_count": 153,
      "metadata": {},
      "outputs": [
        {
          "name": "stdout",
          "output_type": "stream",
          "text": [
            "{'algorithm': 'SAMME.R', 'base_estimator': 'deprecated', 'estimator': None, 'learning_rate': 0.09204020100502514, 'n_estimators': 1641, 'random_state': 42}\n"
          ]
        }
      ],
      "source": [
        "show_best_hyperparameter(ab_tuned)"
      ]
    },
    {
      "cell_type": "code",
      "execution_count": 166,
      "metadata": {},
      "outputs": [
        {
          "name": "stdout",
          "output_type": "stream",
          "text": [
            "Accuracy (Train Set): 0.82\n",
            "Accuracy (Test Set): 0.78 \n",
            "\n",
            "Precision (Train Set): 0.83\n",
            "Precision (Test Set): 0.77 \n",
            "\n",
            "Recall (Train Set): 0.59\n",
            "Recall (Test Set): 0.57 \n",
            "\n",
            "F1-Score (Train Set): 0.69\n",
            "F1-Score (Test Set): 0.66 \n",
            "\n",
            "roc_auc (train-proba): 0.81\n",
            "roc_auc (test-proba): 0.79 \n",
            "\n",
            "roc_auc (crossval train): 0.979723526681941\n",
            "roc_auc (crossval test): 0.7922215138256007 \n",
            "\n"
          ]
        }
      ],
      "source": [
        "#AdaBoost-hyper Oversample\n",
        "from sklearn.model_selection import RandomizedSearchCV\n",
        "import numpy as np\n",
        "\n",
        "# List of hyperparameter\n",
        "hyperparameters = dict(n_estimators = [1641], # Jumlah iterasi\n",
        "                       learning_rate = [0.09204020100502513],  \n",
        "                       algorithm = ['SAMME.R'],\n",
        "                      )\n",
        "\n",
        "# Init model\n",
        "ab = AdaBoostClassifier(random_state=42)\n",
        "ab_tuned = RandomizedSearchCV(ab, hyperparameters, cv=5, scoring='recall')\n",
        "ab_tuned.fit(X_over_SMOTE,y_over_SMOTE)\n",
        "\n",
        "# Predict & Evaluation\n",
        "eval_classification(ab_tuned)"
      ]
    },
    {
      "attachments": {},
      "cell_type": "markdown",
      "metadata": {},
      "source": [
        "##### XGBoost"
      ]
    },
    {
      "cell_type": "code",
      "execution_count": 154,
      "metadata": {},
      "outputs": [
        {
          "name": "stdout",
          "output_type": "stream",
          "text": [
            "Accuracy (Train Set): 0.89\n",
            "Accuracy (Test Set): 0.79 \n",
            "\n",
            "Precision (Train Set): 0.95\n",
            "Precision (Test Set): 0.76 \n",
            "\n",
            "Recall (Train Set): 0.74\n",
            "Recall (Test Set): 0.63 \n",
            "\n",
            "F1-Score (Train Set): 0.83\n",
            "F1-Score (Test Set): 0.69 \n",
            "\n",
            "roc_auc (train-proba): 0.96\n",
            "roc_auc (test-proba): 0.81 \n",
            "\n",
            "roc_auc (crossval train): 0.9797459270603562\n",
            "roc_auc (crossval test): 0.7921972845035902 \n",
            "\n"
          ]
        }
      ],
      "source": [
        "from xgboost import XGBClassifier\n",
        "\n",
        "xg = XGBClassifier()\n",
        "xg.fit(X_train, y_train)\n",
        "eval_classification(xg)"
      ]
    },
    {
      "cell_type": "code",
      "execution_count": 167,
      "metadata": {},
      "outputs": [
        {
          "name": "stdout",
          "output_type": "stream",
          "text": [
            "Accuracy (Train Set): 0.90\n",
            "Accuracy (Test Set): 0.79 \n",
            "\n",
            "Precision (Train Set): 0.93\n",
            "Precision (Test Set): 0.76 \n",
            "\n",
            "Recall (Train Set): 0.77\n",
            "Recall (Test Set): 0.64 \n",
            "\n",
            "F1-Score (Train Set): 0.84\n",
            "F1-Score (Test Set): 0.69 \n",
            "\n",
            "roc_auc (train-proba): 0.96\n",
            "roc_auc (test-proba): 0.81 \n",
            "\n",
            "roc_auc (crossval train): 0.9798126043097974\n",
            "roc_auc (crossval test): 0.7903954363435515 \n",
            "\n"
          ]
        }
      ],
      "source": [
        "#XGBoost oversample\n",
        "xg = XGBClassifier()\n",
        "xg.fit(X_over_SMOTE, y_over_SMOTE)\n",
        "eval_classification(xg)"
      ]
    },
    {
      "cell_type": "code",
      "execution_count": 155,
      "metadata": {},
      "outputs": [
        {
          "name": "stdout",
          "output_type": "stream",
          "text": [
            "Accuracy (Train Set): 0.86\n",
            "Accuracy (Test Set): 0.80 \n",
            "\n",
            "Precision (Train Set): 0.90\n",
            "Precision (Test Set): 0.80 \n",
            "\n",
            "Recall (Train Set): 0.68\n",
            "Recall (Test Set): 0.62 \n",
            "\n",
            "F1-Score (Train Set): 0.78\n",
            "F1-Score (Test Set): 0.70 \n",
            "\n",
            "roc_auc (train-proba): 0.93\n",
            "roc_auc (test-proba): 0.80 \n",
            "\n",
            "roc_auc (crossval train): 0.9796074823486421\n",
            "roc_auc (crossval test): 0.7930601439519469 \n",
            "\n"
          ]
        }
      ],
      "source": [
        "from sklearn.model_selection import RandomizedSearchCV, GridSearchCV\n",
        "import numpy as np\n",
        "\n",
        "#Menjadikan ke dalam bentuk dictionary\n",
        "hyperparameters = {\n",
        "                    'max_depth' : [int(x) for x in np.linspace(10, 110, num = 11)],\n",
        "                    'min_child_weight' : [int(x) for x in np.linspace(1, 20, num = 11)],\n",
        "                    'gamma' : [float(x) for x in np.linspace(0, 1, num = 11)],\n",
        "                    'tree_method' : ['auto', 'exact', 'approx', 'hist'],\n",
        "\n",
        "                    'colsample_bytree' : [float(x) for x in np.linspace(0, 1, num = 11)],\n",
        "                    'eta' : [float(x) for x in np.linspace(0, 1, num = 100)],\n",
        "\n",
        "                    'lambda' : [float(x) for x in np.linspace(0, 1, num = 11)],\n",
        "                    'alpha' : [float(x) for x in np.linspace(0, 1, num = 11)]\n",
        "                    }\n",
        "\n",
        "# Init\n",
        "from xgboost import XGBClassifier\n",
        "xg = XGBClassifier(random_state=42)\n",
        "xg_tuned = RandomizedSearchCV(xg, hyperparameters, cv=5, random_state=42, scoring='recall')\n",
        "xg_tuned.fit(X_train,y_train)\n",
        "\n",
        "# Predict & Evaluation\n",
        "eval_classification(xg_tuned)"
      ]
    },
    {
      "cell_type": "code",
      "execution_count": 175,
      "metadata": {},
      "outputs": [
        {
          "name": "stdout",
          "output_type": "stream",
          "text": [
            "Accuracy (Train Set): 0.87\n",
            "Accuracy (Test Set): 0.79 \n",
            "\n",
            "Precision (Train Set): 0.88\n",
            "Precision (Test Set): 0.76 \n",
            "\n",
            "Recall (Train Set): 0.73\n",
            "Recall (Test Set): 0.64 \n",
            "\n",
            "F1-Score (Train Set): 0.80\n",
            "F1-Score (Test Set): 0.70 \n",
            "\n",
            "roc_auc (train-proba): 0.93\n",
            "roc_auc (test-proba): 0.82 \n",
            "\n",
            "roc_auc (crossval train): 0.9798578049408171\n",
            "roc_auc (crossval test): 0.7904879306476111 \n",
            "\n"
          ]
        }
      ],
      "source": [
        "#XGBoost-hyper oversample\n",
        "hyperparameters = {\n",
        "                    'max_depth' : [int(x) for x in np.linspace(10, 110, num = 11)],\n",
        "                    'min_child_weight' : [int(x) for x in np.linspace(1, 20, num = 11)],\n",
        "                    'gamma' : [float(x) for x in np.linspace(0, 1, num = 11)],\n",
        "                    'tree_method' : ['auto', 'exact', 'approx', 'hist'],\n",
        "\n",
        "                    'colsample_bytree' : [float(x) for x in np.linspace(0, 1, num = 11)],\n",
        "                    'eta' : [float(x) for x in np.linspace(0, 1, num = 100)],\n",
        "\n",
        "                    'lambda' : [float(x) for x in np.linspace(0, 1, num = 11)],\n",
        "                    'alpha' : [float(x) for x in np.linspace(0, 1, num = 11)]\n",
        "                    }\n",
        "\n",
        "# Init\n",
        "from xgboost import XGBClassifier\n",
        "xg = XGBClassifier(random_state=42)\n",
        "xg_tuned = RandomizedSearchCV(xg, hyperparameters, cv=5, random_state=42, scoring='recall')\n",
        "xg_tuned.fit(X_over_SMOTE,y_over_SMOTE)\n",
        "\n",
        "# Predict & Evaluation\n",
        "eval_classification(xg_tuned)"
      ]
    },
    {
      "attachments": {},
      "cell_type": "markdown",
      "metadata": {},
      "source": [
        "<h4>NaiveBayes Classifier"
      ]
    },
    {
      "cell_type": "code",
      "execution_count": 168,
      "metadata": {},
      "outputs": [
        {
          "name": "stdout",
          "output_type": "stream",
          "text": [
            "Accuracy (Train Set): 0.87\n",
            "Accuracy (Test Set): 0.79 \n",
            "\n",
            "Precision (Train Set): 0.88\n",
            "Precision (Test Set): 0.76 \n",
            "\n",
            "Recall (Train Set): 0.73\n",
            "Recall (Test Set): 0.64 \n",
            "\n",
            "F1-Score (Train Set): 0.80\n",
            "F1-Score (Test Set): 0.70 \n",
            "\n",
            "roc_auc (train-proba): 0.93\n",
            "roc_auc (test-proba): 0.82 \n",
            "\n",
            "roc_auc (crossval train): 0.9798287615891639\n",
            "roc_auc (crossval test): 0.7910876225490195 \n",
            "\n"
          ]
        }
      ],
      "source": [
        "from sklearn.model_selection import RandomizedSearchCV, GridSearchCV\n",
        "import numpy as np\n",
        "\n",
        "#Menjadikan ke dalam bentuk dictionary\n",
        "hyperparameters = {\n",
        "                    'max_depth' : [int(x) for x in np.linspace(10, 110, num = 11)],\n",
        "                    'min_child_weight' : [int(x) for x in np.linspace(1, 20, num = 11)],\n",
        "                    'gamma' : [float(x) for x in np.linspace(0, 1, num = 11)],\n",
        "                    'tree_method' : ['auto', 'exact', 'approx', 'hist'],\n",
        "\n",
        "                    'colsample_bytree' : [float(x) for x in np.linspace(0, 1, num = 11)],\n",
        "                    'eta' : [float(x) for x in np.linspace(0, 1, num = 100)],\n",
        "\n",
        "                    'lambda' : [float(x) for x in np.linspace(0, 1, num = 11)],\n",
        "                    'alpha' : [float(x) for x in np.linspace(0, 1, num = 11)]\n",
        "                    }\n",
        "\n",
        "# Init\n",
        "from xgboost import XGBClassifier\n",
        "xg = XGBClassifier(random_state=42)\n",
        "xg_tuned = RandomizedSearchCV(xg, hyperparameters, cv=5, random_state=42, scoring='recall')\n",
        "xg_tuned.fit(X_over_SMOTE,y_over_SMOTE)\n",
        "\n",
        "# Predict & Evaluation\n",
        "eval_classification(xg_tuned)"
      ]
    },
    {
      "cell_type": "code",
      "execution_count": 156,
      "metadata": {},
      "outputs": [
        {
          "name": "stdout",
          "output_type": "stream",
          "text": [
            "Number of mislabeled points out of a total 597 points : 143\n"
          ]
        }
      ],
      "source": [
        "from sklearn.datasets import load_iris\n",
        "from sklearn.model_selection import train_test_split\n",
        "from sklearn.naive_bayes import GaussianNB\n",
        "\n",
        "gnb = GaussianNB()\n",
        "ynb_pred = gnb.fit(X_train, y_train).predict(X_test)\n",
        "print(\"Number of mislabeled points out of a total %d points : %d\" % (X_test.shape[0], (y_test != ynb_pred).sum()))"
      ]
    },
    {
      "cell_type": "code",
      "execution_count": 157,
      "metadata": {},
      "outputs": [
        {
          "name": "stdout",
          "output_type": "stream",
          "text": [
            "Accuracy (Train Set): 0.74\n",
            "Accuracy (Test Set): 0.76 \n",
            "\n",
            "Precision (Train Set): 0.68\n",
            "Precision (Test Set): 0.74 \n",
            "\n",
            "Recall (Train Set): 0.50\n",
            "Recall (Test Set): 0.56 \n",
            "\n",
            "F1-Score (Train Set): 0.58\n",
            "F1-Score (Test Set): 0.64 \n",
            "\n",
            "roc_auc (train-proba): 0.74\n",
            "roc_auc (test-proba): 0.77 \n",
            "\n",
            "roc_auc (crossval train): 0.979882414919393\n",
            "roc_auc (crossval test): 0.7916058776063243 \n",
            "\n"
          ]
        }
      ],
      "source": [
        "eval_classification(gnb)"
      ]
    },
    {
      "cell_type": "code",
      "execution_count": 176,
      "metadata": {},
      "outputs": [
        {
          "name": "stdout",
          "output_type": "stream",
          "text": [
            "Number of mislabeled points out of a total 597 points : 152\n",
            "Accuracy (Train Set): 0.73\n",
            "Accuracy (Test Set): 0.75 \n",
            "\n",
            "Precision (Train Set): 0.63\n",
            "Precision (Test Set): 0.69 \n",
            "\n",
            "Recall (Train Set): 0.53\n",
            "Recall (Test Set): 0.58 \n",
            "\n",
            "F1-Score (Train Set): 0.58\n",
            "F1-Score (Test Set): 0.63 \n",
            "\n",
            "roc_auc (train-proba): 0.74\n",
            "roc_auc (test-proba): 0.77 \n",
            "\n",
            "roc_auc (crossval train): 0.9797350368158261\n",
            "roc_auc (crossval test): 0.7907032005143607 \n",
            "\n"
          ]
        }
      ],
      "source": [
        "gnb = GaussianNB()\n",
        "ynb_pred = gnb.fit(X_over_SMOTE, y_over_SMOTE).predict(X_test)\n",
        "print(\"Number of mislabeled points out of a total %d points : %d\" % (X_test.shape[0], (y_test != ynb_pred).sum()))\n",
        "eval_classification(gnb)"
      ]
    },
    {
      "attachments": {},
      "cell_type": "markdown",
      "metadata": {},
      "source": [
        "#### Features Importance"
      ]
    },
    {
      "cell_type": "code",
      "execution_count": 158,
      "metadata": {},
      "outputs": [
        {
          "data": {
            "image/png": "[encoded data removed]",
            "text/plain": [
              "<Figure size 720x576 with 1 Axes>"
            ]
          },
          "metadata": {
            "needs_background": "light"
          },
          "output_type": "display_data"
        }
      ],
      "source": [
        "show_feature_importance(ab_tuned.best_estimator_)"
      ]
    }
  ],
  "metadata": {
    "colab": {
      "provenance": []
    },
    "kernelspec": {
      "display_name": "base",
      "language": "python",
      "name": "python3"
    },
    "language_info": {
      "codemirror_mode": {
        "name": "ipython",
        "version": 3
      },
      "file_extension": ".py",
      "mimetype": "text/x-python",
      "name": "python",
      "nbconvert_exporter": "python",
      "pygments_lexer": "ipython3",
      "version": "3.9.7"
    },
    "vscode": {
      "interpreter": {
        "hash": "263930470851f494f0ed2879c35b57985588df20f9e529b86e97dd5eb9ddc466"
      }
    }
  },
  "nbformat": 4,
  "nbformat_minor": 0
}
